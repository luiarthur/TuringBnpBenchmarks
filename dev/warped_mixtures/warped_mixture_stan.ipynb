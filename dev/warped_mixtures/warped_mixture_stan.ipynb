{
 "cells": [
  {
   "cell_type": "code",
   "execution_count": 123,
   "metadata": {},
   "outputs": [
    {
     "name": "stdout",
     "output_type": "stream",
     "text": [
      "Last updated: 2020-07-17 18:17:59.976508 (PT)\n"
     ]
    }
   ],
   "source": [
    "import datetime\n",
    "print('Last updated:', datetime.datetime.now(), '(PT)')"
   ]
  },
  {
   "cell_type": "code",
   "execution_count": 124,
   "metadata": {},
   "outputs": [],
   "source": [
    "import pystan\n",
    "import numpy as np\n",
    "import json\n",
    "import matplotlib.pyplot as plt\n",
    "import sys\n",
    "sys.path.append('../../src/dp-gmm/util')\n",
    "from pystan_vb_extract import pystan_vb_extract\n",
    "import copy\n",
    "from scipy.special import logsumexp"
   ]
  },
  {
   "cell_type": "code",
   "execution_count": 125,
   "metadata": {},
   "outputs": [],
   "source": [
    "import pystan\n",
    "from scipy.stats import multivariate_normal"
   ]
  },
  {
   "cell_type": "code",
   "execution_count": 261,
   "metadata": {},
   "outputs": [],
   "source": [
    "# See: https://maggielieu.com/2017/03/21/multivariate-gaussian-mixture-model-done-properly/\n",
    "# See: https://mc-stan.org/docs/2_19/stan-users-guide/gaussian-process-regression.html\n",
    "warped_mixture = \"\"\"\n",
    "data {\n",
    "    int D;               // number of dimensions\n",
    "    int K;               // number of gaussians\n",
    "    int N;               // number of data\n",
    "    matrix[N,D] y;       // data\n",
    "    vector[K] eta;       // dirichlet parameter\n",
    "    real<lower=0> eps;   // nugget for exponential kernel for stability.\n",
    "    matrix[D, D] S;\n",
    "    real<lower=0> s_mu;\n",
    "    real m_rho;\n",
    "    real<lower=0> s_rho;\n",
    "}\n",
    "parameters {\n",
    "    simplex[K] w;                 // mixing proportions\n",
    "    ordered[D] mu[K];             // mixture component means\n",
    "    real<lower=0> rho;            // range parameter in GP covariance fn\n",
    "    matrix[N,D] x;                // latent parameters\n",
    "}\n",
    "transformed parameters {\n",
    "    real soft_c[N, K]; // log unnormalized clusters\n",
    "    for (n in 1:N) {\n",
    "        for (k in 1:K) {\n",
    "            soft_c[n, k] = log(w[k]) + multi_normal_lpdf(x[n, :] | mu[k], S);\n",
    "        }\n",
    "    }\n",
    "}\n",
    "model {\n",
    "    matrix[N, N] KK[D];  // GP covariance matrices\n",
    "    matrix[N, N] LK;  // cholesky of GP covariances\n",
    "\n",
    "    w ~ dirichlet(eta);  // mixture weights\n",
    "    rho ~ lognormal(m_rho, s_rho);  // GP covariance function range parameter\n",
    "   \n",
    "    for(k in 1:K){\n",
    "       mu[k] ~ normal(0, s_mu);  // prior mixture locations (D-dim for each k)\n",
    "    }\n",
    "    \n",
    "    for (n in 1:N){\n",
    "       // GMM\n",
    "       target += log_sum_exp(soft_c[n, :]);\n",
    "    }\n",
    "    \n",
    "    for (d in 1:D) {\n",
    "        KK[d] = cov_exp_quad(to_array_1d(x[:, d]), 1.0, rho); \n",
    "        \n",
    "        // diagonal elements\n",
    "        for (n in 1:N) {\n",
    "            KK[d][n, n] = KK[d][n, n] + eps;\n",
    "        }\n",
    "        \n",
    "        LK = cholesky_decompose(KK[d]);\n",
    "\n",
    "        // Marginalized GP likelihood.\n",
    "        y[:, d] ~ multi_normal_cholesky(rep_vector(0.0, N), LK);\n",
    "    }\n",
    "}\n",
    "\"\"\""
   ]
  },
  {
   "cell_type": "code",
   "execution_count": 262,
   "metadata": {},
   "outputs": [
    {
     "name": "stderr",
     "output_type": "stream",
     "text": [
      "INFO:pystan:COMPILING THE C++ CODE FOR MODEL anon_model_8cefcf07e211dc11dfdc90b2c449f640 NOW.\n"
     ]
    },
    {
     "name": "stdout",
     "output_type": "stream",
     "text": [
      "CPU times: user 1.1 s, sys: 52 ms, total: 1.15 s\n",
      "Wall time: 56.9 s\n"
     ]
    }
   ],
   "source": [
    "%%time\n",
    "sm = pystan.StanModel(model_code=warped_mixture)"
   ]
  },
  {
   "cell_type": "code",
   "execution_count": 263,
   "metadata": {},
   "outputs": [
    {
     "data": {
      "image/png": "[encoded data removed]",
      "text/plain": [
       "<Figure size 432x288 with 1 Axes>"
      ]
     },
     "metadata": {
      "needs_background": "light"
     },
     "output_type": "display_data"
    }
   ],
   "source": [
    "def gen_rainbow_data(N1=60, N2=30, r=2, s=0.1, sx=0.01, sy=0.01):\n",
    "    x1 = np.random.rand(N1) * 2 * r - r\n",
    "    y1 = np.sqrt(r*r - x1*x1)\n",
    "    x2 = np.random.randn(N2) * sx\n",
    "    y2 = np.random.randn(N2) * sy + 1\n",
    "    x = np.concatenate([x1, x2])\n",
    "    y = np.concatenate([y1, y2])\n",
    "    z = np.stack([x, y], axis=1)\n",
    "    return z + np.random.randn(N1 + N2, 2) * s\n",
    "\n",
    "# Generate data\n",
    "np.random.seed(1)\n",
    "y = gen_rainbow_data(s=0.05)\n",
    "plt.scatter(y[:, 0], y[:, 1]);"
   ]
  },
  {
   "cell_type": "code",
   "execution_count": 309,
   "metadata": {},
   "outputs": [],
   "source": [
    "# Data dictionary\n",
    "K = 10\n",
    "N, D = y.shape\n",
    "data = dict(y=y, D=D, N=N, K=K, eta=np.full(K, 1/K**2), eps=1e-1, S=np.eye(D) / 100, s_mu=10, m_rho=0, s_rho=1)\n",
    "init = dict(x=y)"
   ]
  },
  {
   "cell_type": "markdown",
   "metadata": {},
   "source": [
    "## ADVI"
   ]
  },
  {
   "cell_type": "code",
   "execution_count": null,
   "metadata": {},
   "outputs": [],
   "source": [
    "# %%time\n",
    "# Fit via ADVI\n",
    "vb_fit = sm.vb(data=data, iter=20000, seed=1)\n",
    "samples = pystan_vb_extract(vb_fit)"
   ]
  },
  {
   "cell_type": "markdown",
   "metadata": {},
   "source": [
    "## Plots"
   ]
  },
  {
   "cell_type": "code",
   "execution_count": null,
   "metadata": {},
   "outputs": [],
   "source": [
    "plt.boxplot(samples['w']);"
   ]
  },
  {
   "cell_type": "code",
   "execution_count": null,
   "metadata": {},
   "outputs": [],
   "source": [
    "x = samples['x']\n",
    "mu = samples['mu']\n",
    "w_mean = samples['w'].mean(0)\n",
    "x_mean = x.mean(0)"
   ]
  },
  {
   "cell_type": "code",
   "execution_count": null,
   "metadata": {},
   "outputs": [],
   "source": [
    "# FIXME: Something looks off here...\n",
    "for xi in x:\n",
    "    plt.scatter(xi[:, 0], xi[:, 1], c='black', s=1, alpha=0.1)\n",
    "\n",
    "for k in range(data['K']):\n",
    "    if w_mean[k] > 0:\n",
    "        plt.scatter(mu[:, k, 0], mu[:, k, 1], alpha=w_mean[k], s=1);\n",
    "        \n",
    "plt.ylim(-3, 3)        "
   ]
  },
  {
   "cell_type": "code",
   "execution_count": null,
   "metadata": {},
   "outputs": [],
   "source": [
    "def compute_probs(soft_c):\n",
    "    unnormalized_probs = soft_c - logsumexp(soft_c, axis=-1, keepdims=True)\n",
    "    return np.exp(unnormalized_probs)"
   ]
  },
  {
   "cell_type": "code",
   "execution_count": null,
   "metadata": {},
   "outputs": [],
   "source": [
    "probs = compute_probs(samples['soft_c'])\n",
    "probs.mean(0).argmax(1)"
   ]
  },
  {
   "cell_type": "code",
   "execution_count": null,
   "metadata": {},
   "outputs": [],
   "source": [
    "# labels = probs.mean(0).argmax(-1)\n",
    "labels = probs[0, :, :].argmax(-1)\n",
    "plt.scatter(y[:, 0], y[:, 1], c=labels);"
   ]
  },
  {
   "cell_type": "code",
   "execution_count": null,
   "metadata": {},
   "outputs": [],
   "source": [
    "plt.hist(samples['rho']);"
   ]
  },
  {
   "cell_type": "code",
   "execution_count": null,
   "metadata": {},
   "outputs": [],
   "source": []
  }
 ],
 "metadata": {
  "kernelspec": {
   "display_name": "venv",
   "language": "python",
   "name": "venv"
  },
  "language_info": {
   "codemirror_mode": {
    "name": "ipython",
    "version": 3
   },
   "file_extension": ".py",
   "mimetype": "text/x-python",
   "name": "python",
   "nbconvert_exporter": "python",
   "pygments_lexer": "ipython3",
   "version": "3.6.9"
  }
 },
 "nbformat": 4,
 "nbformat_minor": 4
}

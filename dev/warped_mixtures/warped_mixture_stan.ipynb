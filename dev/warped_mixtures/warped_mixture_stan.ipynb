{
 "cells": [
  {
   "cell_type": "code",
   "execution_count": 2,
   "metadata": {},
   "outputs": [
    {
     "name": "stdout",
     "output_type": "stream",
     "text": [
      "Last updated: 2020-07-15 15:09:31.279368 (PT)\n"
     ]
    }
   ],
   "source": [
    "import datetime\n",
    "print('Last updated:', datetime.datetime.now(), '(PT)')"
   ]
  },
  {
   "cell_type": "code",
   "execution_count": 3,
   "metadata": {},
   "outputs": [],
   "source": [
    "import pystan\n",
    "import numpy as np\n",
    "import json\n",
    "import matplotlib.pyplot as plt\n",
    "import sys\n",
    "sys.path.append('../../src/dp-gmm/util')\n",
    "from pystan_vb_extract import pystan_vb_extract\n",
    "import copy"
   ]
  },
  {
   "cell_type": "code",
   "execution_count": 4,
   "metadata": {},
   "outputs": [],
   "source": [
    "import matplotlib.pyplot as plt\n",
    "import numpy as np\n",
    "import pystan"
   ]
  },
  {
   "cell_type": "code",
   "execution_count": 5,
   "metadata": {},
   "outputs": [],
   "source": [
    "warped_mixture = \"\"\"\n",
    "data {\n",
    "    int D;          // number of dimensions'\n",
    "    int K;          // number of gaussians'\n",
    "    int N;          // number of data'\n",
    "    vector[D] y[N]; // data'\n",
    "    vector[K] eta; // dirichlet parameter\n",
    "    int degree; // number of units in hidden layer of neural net\n",
    "}\n",
    "parameters {\n",
    "    simplex[K] w;             // mixing proportions'\n",
    "    ordered[D] mu[K];             // mixture component means'\n",
    "    cholesky_factor_corr[D] L[K]; // cholesky factor of covariance'\n",
    "    vector[D] x[N]; // latent params\n",
    "    real<lower=0> sigma;\n",
    "    vector[degree] beta;\n",
    "}\n",
    "transformed parameters {\n",
    "    vector[D] z[N];\n",
    "    \n",
    "    for (d in 1:D) {\n",
    "        for (n in 1:N) {\n",
    "            z[n][d] = 0.0;\n",
    "            for (j in 1:degree) {\n",
    "              z[n][d] += x[n][d] ^ (j - 1) * beta[j];\n",
    "            }\n",
    "        }\n",
    "    }\n",
    "}\n",
    "model {\n",
    "    real ps[K];\n",
    "    \n",
    "    w ~ dirichlet(eta);\n",
    "    beta ~ normal(0, 1);\n",
    "    \n",
    "    for(k in 1:K){\n",
    "       mu[k] ~ normal(0,3);\n",
    "       L[k] ~ lkj_corr_cholesky(4);\n",
    "    }\n",
    "    for (n in 1:N){\n",
    "       for (k in 1:K){\n",
    "          // increment log probability of the gaussian'\n",
    "          ps[k] = log(w[k]) + multi_normal_cholesky_lpdf(x[n] | mu[k], L[k]);\n",
    "       }\n",
    "       target += log_sum_exp(ps);\n",
    "    }\n",
    "    \n",
    "    sigma ~ lognormal(-1, 1);\n",
    "    for (n in 1:N) {\n",
    "      y[n] ~ normal(z[n], sigma);\n",
    "    }\n",
    "}\n",
    "\"\"\""
   ]
  },
  {
   "cell_type": "code",
   "execution_count": 6,
   "metadata": {},
   "outputs": [
    {
     "name": "stderr",
     "output_type": "stream",
     "text": [
      "INFO:pystan:COMPILING THE C++ CODE FOR MODEL anon_model_f4c8c89395ebff8034fec56aece83276 NOW.\n"
     ]
    }
   ],
   "source": [
    "sm = pystan.StanModel(model_code=warped_mixture)"
   ]
  },
  {
   "cell_type": "code",
   "execution_count": 8,
   "metadata": {},
   "outputs": [
    {
     "data": {
      "text/plain": [
       "<matplotlib.collections.PathCollection at 0x7f00cff06f60>"
      ]
     },
     "execution_count": 8,
     "metadata": {},
     "output_type": "execute_result"
    },
    {
     "data": {
      "image/png": "[encoded data removed]",
      "text/plain": [
       "<Figure size 432x288 with 1 Axes>"
      ]
     },
     "metadata": {
      "needs_background": "light"
     },
     "output_type": "display_data"
    }
   ],
   "source": [
    "def gen_rainbow_data(N1=200, N2=100, r=2, s=0.1, sx=0.01, sy=0.01):\n",
    "    x1 = np.random.rand(N1) * 2 * r - r\n",
    "    y1 = np.sqrt(r*r - x1*x1)\n",
    "    x2 = np.random.randn(N2) * sx\n",
    "    y2 = np.random.randn(N2) * sy + 1\n",
    "    x = np.concatenate([x1, x2])\n",
    "    y = np.concatenate([y1, y2])\n",
    "    z = np.stack([x, y], axis=1)\n",
    "    return z + np.random.randn(N1 + N2, 2) * s\n",
    "\n",
    "Z = gen_rainbow_data(s=0.05)\n",
    "plt.scatter(Z[:, 0], Z[:, 1])"
   ]
  },
  {
   "cell_type": "code",
   "execution_count": 29,
   "metadata": {},
   "outputs": [],
   "source": [
    "# Generate data\n",
    "np.random.seed(1)\n",
    "N1 = 100\n",
    "N2 = 200\n",
    "\n",
    "# Easy data\n",
    "Y = np.vstack([np.random.randn(N1, 2) * .5 + 3,\n",
    "               np.random.randn(N2, 2) - 2])\n",
    "\n",
    "# Fun data\n",
    "# plt.scatter(Y[:, 0], Y[:, 1])\n",
    "\n",
    "# Data dictionary\n",
    "K = 10\n",
    "degree = 5\n",
    "# data = dict(y=Y, D=Y.shape[1], N=Y.shape[0], \n",
    "#             K=K, eta=np.full(K, 1/K), degree=degree)\n",
    "\n",
    "data = dict(y=Z, D=Z.shape[1], N=Z.shape[0], \n",
    "            K=K, eta=np.full(K, 1/K), degree=degree)"
   ]
  },
  {
   "cell_type": "code",
   "execution_count": 30,
   "metadata": {},
   "outputs": [
    {
     "name": "stderr",
     "output_type": "stream",
     "text": [
      "WARNING:pystan:Automatic Differentiation Variational Inference (ADVI) is an EXPERIMENTAL ALGORITHM.\n",
      "WARNING:pystan:ADVI samples may be found on the filesystem in the file `/tmp/tmp84tak414/output.csv`\n"
     ]
    },
    {
     "name": "stdout",
     "output_type": "stream",
     "text": [
      "CPU times: user 8.48 s, sys: 32.3 ms, total: 8.51 s\n",
      "Wall time: 8.47 s\n"
     ]
    }
   ],
   "source": [
    "%%time\n",
    "# Fit via ADVI\n",
    "vb_fit = sm.vb(data=data, iter=2000, seed=2)"
   ]
  },
  {
   "cell_type": "code",
   "execution_count": 31,
   "metadata": {},
   "outputs": [
    {
     "data": {
      "image/png": "[encoded data removed]",
      "text/plain": [
       "<Figure size 432x288 with 1 Axes>"
      ]
     },
     "metadata": {
      "needs_background": "light"
     },
     "output_type": "display_data"
    }
   ],
   "source": [
    "plt.boxplot(pystan_vb_extract(vb_fit)['w']);\n",
    "# plt.boxplot(pystan_vb_extract(vb_fit)['mu']);\n",
    "mu_mean = pystan_vb_extract(vb_fit)['mu'].mean(0)"
   ]
  },
  {
   "cell_type": "code",
   "execution_count": 32,
   "metadata": {},
   "outputs": [
    {
     "data": {
      "text/plain": [
       "<matplotlib.collections.PathCollection at 0x7f00c858fb70>"
      ]
     },
     "execution_count": 32,
     "metadata": {},
     "output_type": "execute_result"
    },
    {
     "data": {
      "image/png": "[encoded data removed]",
      "text/plain": [
       "<Figure size 432x288 with 1 Axes>"
      ]
     },
     "metadata": {
      "needs_background": "light"
     },
     "output_type": "display_data"
    }
   ],
   "source": [
    "plt.scatter(Y[:, 0], Y[:, 1])\n",
    "plt.scatter(mu_mean[:, 0], mu_mean[:, 1])"
   ]
  },
  {
   "cell_type": "code",
   "execution_count": 33,
   "metadata": {},
   "outputs": [
    {
     "name": "stderr",
     "output_type": "stream",
     "text": [
      "../../src/dp-gmm/util/pystan_vb_extract.py:21: RuntimeWarning: invalid value encountered in multiply\n",
      "  params = OrderedDict([(name, np.nan * np.empty((n, ) + tuple(shape))) for name, shape in param_shapes.items()])\n"
     ]
    },
    {
     "data": {
      "text/plain": [
       "<matplotlib.collections.PathCollection at 0x7f00c8551240>"
      ]
     },
     "execution_count": 33,
     "metadata": {},
     "output_type": "execute_result"
    },
    {
     "data": {
      "image/png": "[encoded data removed]",
      "text/plain": [
       "<Figure size 432x288 with 1 Axes>"
      ]
     },
     "metadata": {
      "needs_background": "light"
     },
     "output_type": "display_data"
    }
   ],
   "source": [
    "x = pystan_vb_extract(vb_fit)['x'].mean(0)\n",
    "plt.scatter(x[:, 0], x[:, 1])"
   ]
  },
  {
   "cell_type": "code",
   "execution_count": null,
   "metadata": {},
   "outputs": [],
   "source": []
  }
 ],
 "metadata": {
  "kernelspec": {
   "display_name": "venv",
   "language": "python",
   "name": "venv"
  },
  "language_info": {
   "codemirror_mode": {
    "name": "ipython",
    "version": 3
   },
   "file_extension": ".py",
   "mimetype": "text/x-python",
   "name": "python",
   "nbconvert_exporter": "python",
   "pygments_lexer": "ipython3",
   "version": "3.6.9"
  }
 },
 "nbformat": 4,
 "nbformat_minor": 4
}

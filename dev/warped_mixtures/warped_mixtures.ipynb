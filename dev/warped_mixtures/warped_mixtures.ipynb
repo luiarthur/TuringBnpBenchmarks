{
 "cells": [
  {
   "cell_type": "code",
   "execution_count": 1,
   "metadata": {},
   "outputs": [
    {
     "name": "stdout",
     "output_type": "stream",
     "text": [
      "Last updated: 2020-07-14T23:25:15.446\n"
     ]
    }
   ],
   "source": [
    "import Dates\n",
    "println(\"Last updated: \", Dates.now())"
   ]
  },
  {
   "cell_type": "code",
   "execution_count": 2,
   "metadata": {},
   "outputs": [
    {
     "name": "stderr",
     "output_type": "stream",
     "text": [
      "\u001b[32m\u001b[1m Activating\u001b[22m\u001b[39m environment at `~/repo/TuringBnpBenchmarks/Project.toml`\n"
     ]
    }
   ],
   "source": [
    "# Load environment\n",
    "import Pkg; Pkg.activate(\"../../\")"
   ]
  },
  {
   "cell_type": "code",
   "execution_count": 3,
   "metadata": {},
   "outputs": [],
   "source": [
    "# Import Libraries\n",
    "using Turing\n",
    "using Turing: Variational\n",
    "using Turing.RandomMeasures: stickbreak\n",
    "using Distributions\n",
    "using JSON3\n",
    "using PyPlot\n",
    "using StatsFuns\n",
    "import Random\n",
    "using BenchmarkTools\n",
    "using Flux\n",
    "import LinearAlgebra"
   ]
  },
  {
   "cell_type": "code",
   "execution_count": 138,
   "metadata": {},
   "outputs": [
    {
     "data": {
      "text/plain": [
       "neural_net (generic function with 1 method)"
      ]
     },
     "execution_count": 138,
     "metadata": {},
     "output_type": "execute_result"
    }
   ],
   "source": [
    "function neural_net(x, w1, b1, w2, b2)\n",
    "    z = sigmoid.(x * w1 .+ b1)\n",
    "    return z * w2 .+ b2\n",
    "end\n",
    "\n",
    "# d1 = Dense(randn(5, 2), randn(5, 1), sigmoid)\n",
    "# d2 = Dense(randn(1, 5), randn(1, 1), sigmoid)\n",
    "# c = Chain(d1, d2)\n",
    "# c(randn(2, 100))\n",
    "\n",
    "# neural_net(randn(10, 2), randn(2, 5), randn(1, 5), randn(5,1), randn(1, 1))\n",
    "# neural_net(randn(10, 2), randn(2, 5), randn(1, 5), randn(5,2), randn(1, 2))"
   ]
  },
  {
   "cell_type": "code",
   "execution_count": 5,
   "metadata": {},
   "outputs": [],
   "source": [
    "function bivnormlogpdf(x, m, S)\n",
    "    K = length(m)\n",
    "    invS = inv(S)\n",
    "    z = (x - m)\n",
    "    log_numer = -z' * invS * z / 2\n",
    "    log_denom = 0.5 * (K * log(2*pi) + LinearAlgebra.logdet(S))\n",
    "    return sum(log_numer) - log_denom\n",
    "end\n",
    "\n",
    "eye(n::Int) = Matrix{Float64}(LinearAlgebra.I, n, n);"
   ]
  },
  {
   "cell_type": "code",
   "execution_count": 6,
   "metadata": {},
   "outputs": [
    {
     "data": {
      "text/plain": [
       "make_cov (generic function with 1 method)"
      ]
     },
     "execution_count": 6,
     "metadata": {},
     "output_type": "execute_result"
    }
   ],
   "source": [
    "function make_cov(sigx, sigy, rho)\n",
    "    c = sigx * sigy * rho\n",
    "    sx2 = sigx*sigx\n",
    "    sy2 = sigy*sigy\n",
    "    return reshape([sx2, c, c, sy2], 2, 2)\n",
    "end\n",
    "\n",
    "# inv(make_cov(rand()*2, rand()*2, rand()*2 - 1))"
   ]
  },
  {
   "cell_type": "code",
   "execution_count": 7,
   "metadata": {},
   "outputs": [],
   "source": [
    "struct MvGMM <: ContinuousMultivariateDistribution\n",
    "    mu::Matrix{Float64}\n",
    "    # Sigma::Array{Float64, 3} \n",
    "    Sigma::Vector{Matrix{Float64}}\n",
    "    w::Vector{Float64}\n",
    "end"
   ]
  },
  {
   "cell_type": "code",
   "execution_count": 29,
   "metadata": {},
   "outputs": [],
   "source": [
    "function Distributions.rand(rng::Random.AbstractRNG, d::MvGMM)\n",
    "    D, K = size(d.mu)  # dimension x num_components\n",
    "    k = rand(Categorical(d.w)) \n",
    "    rand(MvNormal(d.mu[:, k], d.Sigma[k]))\n",
    "end\n",
    "\n",
    "function Distributions.logpdf(d::MvGMM, x::AbstractVector{<:Real})\n",
    "    D, K = size(d.mu)  # dimension x num_components\n",
    "    ll = [logpdf(MvNormal(d.mu[:, k], d.Sigma[k]), x) for k in 1:K]\n",
    "    return logsumexp(ll .+ log.(d.w))\n",
    "end\n",
    "\n",
    "Bijectors.bijector(d::MvGMM) = Identity{1}()\n",
    "\n",
    "# Example:\n",
    "# Sigma = [make_cov(.5, .5, .5) for _ in 1:5]\n",
    "# mvgmm = MvGMM(randn(2,5), Sigma, stickbreak(rand(4)))\n",
    "# x = rand(mvgmm)\n",
    "# logpdf(mvgmm, x)"
   ]
  },
  {
   "cell_type": "code",
   "execution_count": 56,
   "metadata": {},
   "outputs": [
    {
     "name": "stderr",
     "output_type": "stream",
     "text": [
      "┌ Warning: you are using the internal variable `_varinfo`\n",
      "└ @ DynamicPPL /home/ubuntu/.julia/packages/DynamicPPL/MRwtL/src/compiler.jl:181\n"
     ]
    },
    {
     "data": {
      "text/plain": [
       "DynamicPPL.ModelGen{var\"###generator#1045\",(:Y, :K, :P, :T),(:T,),Tuple{Type{Array{Float64,2}}}}(##generator#1045, NamedTuple{(:T,),Tuple{Type{Array{Float64,2}}}}((Array{Float64,2},)))"
      ]
     },
     "execution_count": 56,
     "metadata": {},
     "output_type": "execute_result"
    }
   ],
   "source": [
    "# DP GMM model under stick-breaking construction\n",
    "# FIXME: Look at the very round-about way to do NN below.\n",
    "@model function warped_mixture_2D(Y, K, P, ::Type{T}=Matrix{Float64}) where T\n",
    "    nobs, D = size(Y)\n",
    "\n",
    "    # Mixture weights.\n",
    "    alpha ~ Uniform(0, 1)\n",
    "    v ~ filldist(Beta(1, alpha), K - 1)\n",
    "    eta = stickbreak(v)\n",
    "    \n",
    "    # Neural net parameters.\n",
    "    w1 ~ filldist(Normal(0, 1), D, P)\n",
    "    b1 ~ filldist(Normal(0, 1), 1, P)\n",
    "    w2 ~ filldist(Normal(0, 1), P, D)\n",
    "    b2 ~ filldist(Normal(0, 1), 1, D)    \n",
    "    \n",
    "    # Mixture parameters\n",
    "    mu ~ filldist(Normal(0, 1), D, K)\n",
    "    R11 ~ filldist(LogNormal(0, 1), K)\n",
    "    R22 ~ filldist(LogNormal(0, 1), K)\n",
    "    rho ~ filldist(Uniform(-1, 1), K)\n",
    "    R = make_cov.(R11, R22, rho)\n",
    "    sigma ~ LogNormal(-1, 1)\n",
    "\n",
    "    # Latent variables.\n",
    "    x = T(undef, nobs, D)\n",
    "    for i in 1:nobs\n",
    "        x[i, :] ~ MvGMM(mu, R, eta)\n",
    "    end\n",
    "    \n",
    "    # Latent variables.\n",
    "    z = neural_net(x, w1, b1, w2, b2)\n",
    "    \n",
    "    Turing.acclogp!(_varinfo, sum(normlogpdf.(z, sigma, Y)))\n",
    "end"
   ]
  },
  {
   "cell_type": "code",
   "execution_count": 57,
   "metadata": {},
   "outputs": [
    {
     "ename": "DimensionMismatch",
     "evalue": "DimensionMismatch(\"A has dimensions (2,1) but B has dimensions (2,20)\")",
     "output_type": "error",
     "traceback": [
      "DimensionMismatch(\"A has dimensions (2,1) but B has dimensions (2,20)\")",
      "",
      "Stacktrace:",
      " [1] gemm_wrapper!(::Array{Float64,2}, ::Char, ::Char, ::Array{Float64,2}, ::Array{Float64,2}, ::LinearAlgebra.MulAddMul{true,true,Bool,Bool}) at /buildworker/worker/package_linux64/build/usr/share/julia/stdlib/v1.4/LinearAlgebra/src/matmul.jl:569",
      " [2] mul! at /buildworker/worker/package_linux64/build/usr/share/julia/stdlib/v1.4/LinearAlgebra/src/matmul.jl:169 [inlined]",
      " [3] mul! at /buildworker/worker/package_linux64/build/usr/share/julia/stdlib/v1.4/LinearAlgebra/src/matmul.jl:208 [inlined]",
      " [4] * at /buildworker/worker/package_linux64/build/usr/share/julia/stdlib/v1.4/LinearAlgebra/src/matmul.jl:160 [inlined]",
      " [5] * at /buildworker/worker/package_linux64/build/usr/share/julia/stdlib/v1.4/LinearAlgebra/src/matmul.jl:63 [inlined]",
      " [6] neural_net(::Array{Float64,1}, ::Array{Float64,2}, ::Array{Float64,2}, ::Array{Float64,2}, ::Array{Float64,2}) at ./In[4]:2",
      " [7] macro expansion at ./In[56]:31 [inlined]",
      " [8] ##evaluator#1044(::Random._GLOBAL_RNG, ::DynamicPPL.Model{var\"###evaluator#1044\",(:Y, :K, :P, :T),Tuple{Array{Float64,2},Int64,Int64,Type{Array{Float64,2}}},(),DynamicPPL.ModelGen{var\"###generator#1045\",(:Y, :K, :P, :T),(:T,),Tuple{Type{Array{Float64,2}}}}}, ::DynamicPPL.VarInfo{DynamicPPL.Metadata{Dict{DynamicPPL.VarName,Int64},Array{Distribution,1},Array{DynamicPPL.VarName,1},Array{Real,1},Array{Set{DynamicPPL.Selector},1}},Float64}, ::DynamicPPL.SampleFromPrior, ::DynamicPPL.DefaultContext) at /home/ubuntu/.julia/packages/DynamicPPL/MRwtL/src/compiler.jl:356",
      " [9] evaluate_threadunsafe at /home/ubuntu/.julia/packages/DynamicPPL/MRwtL/src/model.jl:157 [inlined]",
      " [10] Model at /home/ubuntu/.julia/packages/DynamicPPL/MRwtL/src/model.jl:136 [inlined]",
      " [11] Model at /home/ubuntu/.julia/packages/DynamicPPL/MRwtL/src/model.jl:126 [inlined]",
      " [12] VarInfo at /home/ubuntu/.julia/packages/DynamicPPL/MRwtL/src/varinfo.jl:110 [inlined]",
      " [13] VarInfo at /home/ubuntu/.julia/packages/DynamicPPL/MRwtL/src/varinfo.jl:109 [inlined]",
      " [14] meanfield(::Random._GLOBAL_RNG, ::DynamicPPL.Model{var\"###evaluator#1044\",(:Y, :K, :P, :T),Tuple{Array{Float64,2},Int64,Int64,Type{Array{Float64,2}}},(),DynamicPPL.ModelGen{var\"###generator#1045\",(:Y, :K, :P, :T),(:T,),Tuple{Type{Array{Float64,2}}}}}) at /home/ubuntu/.julia/packages/Turing/NZ9IU/src/variational/advi.jl:65",
      " [15] meanfield(::DynamicPPL.Model{var\"###evaluator#1044\",(:Y, :K, :P, :T),Tuple{Array{Float64,2},Int64,Int64,Type{Array{Float64,2}}},(),DynamicPPL.ModelGen{var\"###generator#1045\",(:Y, :K, :P, :T),(:T,),Tuple{Type{Array{Float64,2}}}}}) at /home/ubuntu/.julia/packages/Turing/NZ9IU/src/variational/advi.jl:62",
      " [16] top-level scope at In[57]:3"
     ]
    }
   ],
   "source": [
    "Y = randn(100, 2)\n",
    "m = warped_mixture_2D(Y, 10, 20)  # data, num_components, nn_num_units\n",
    "q0 = Variational.meanfield(m)  # initialize variational distribution (optional)\n",
    "# advi = ADVI(1, 2000)  # num_elbo_samples, max_iters\n",
    "# @time q = vi(m, advi, q0, optimizer=Flux.ADAM(1e-2));"
   ]
  },
  {
   "cell_type": "code",
   "execution_count": 205,
   "metadata": {},
   "outputs": [
    {
     "data": {
      "text/plain": [
       "2×10 Array{Float64,2}:\n",
       " 0.956156   0.948677  0.975518   0.99039    …  0.973304   0.949869  0.983026\n",
       " 0.0782339  0.135379  0.0869439  0.0755955     0.0890644  0.133626  0.0656832"
      ]
     },
     "execution_count": 205,
     "metadata": {},
     "output_type": "execute_result"
    }
   ],
   "source": [
    "function unpack(θ::AbstractVector, network_shape::AbstractVector)\n",
    "    index = 1\n",
    "    weights = []\n",
    "    biases = []\n",
    "    for layer in network_shape\n",
    "        rows, cols, _ = layer\n",
    "        size = rows * cols\n",
    "        last_index_w = size + index - 1\n",
    "        last_index_b = last_index_w + rows\n",
    "        push!(weights, reshape(θ[index:last_index_w], rows, cols))\n",
    "        push!(biases, reshape(θ[last_index_w+1:last_index_b], rows))\n",
    "        index = last_index_b + 1\n",
    "    end\n",
    "    return weights, biases\n",
    "end\n",
    "function nn_forward(x, θ::AbstractVector, network_shape::AbstractVector)\n",
    "    weights, biases = unpack(θ, network_shape)\n",
    "    layers = []\n",
    "    for i in eachindex(network_shape)\n",
    "        push!(layers, Dense(weights[i],\n",
    "            biases[i],\n",
    "            eval(network_shape[i][3])))\n",
    "    end\n",
    "    nn = Chain(layers...)\n",
    "    return nn(x)\n",
    "end\n",
    "\n",
    "network_shape = [(7, 2, :σ), (2, 7, :σ)]\n",
    "x = randn(2, 10)\n",
    "num_params = sum([i * o + i for (i, o, _) in network_shape])\n",
    "theta = randn(num_params)\n",
    "nn_forward(x, theta, network_shape)"
   ]
  },
  {
   "cell_type": "code",
   "execution_count": 236,
   "metadata": {},
   "outputs": [
    {
     "data": {
      "text/plain": [
       "DynamicPPL.ModelGen{var\"###generator#1953\",(:y, :X, :num_units),(),Tuple{}}(##generator#1953, NamedTuple())"
      ]
     },
     "execution_count": 236,
     "metadata": {},
     "output_type": "execute_result"
    }
   ],
   "source": [
    "@model function bnn(y, X, num_units) where T\n",
    "    nobs, P = size(X)\n",
    "    network_shape = [(num_units, P, :tanh), (1, num_units, :tanh)]\n",
    "    num_params = sum([i * o + i for (i, o, _) in network_shape])\n",
    "    \n",
    "    # Neural net parameters.\n",
    "    nn_params ~ filldist(Normal(0, 1), num_params)\n",
    "    \n",
    "    # Latent variables.\n",
    "    z = nn_forward(X', nn_params, network_shape)\n",
    "    \n",
    "    # Model noise\n",
    "    sigma ~ LogNormal(-1, 1)\n",
    "   \n",
    "    # Turing.acclogp!(_varinfo, sum(normlogpdf.(z, sigma, y)))\n",
    "    y ~ MvNormal(vec(z), sigma * eye(nobs))\n",
    "end"
   ]
  },
  {
   "cell_type": "code",
   "execution_count": 260,
   "metadata": {},
   "outputs": [
    {
     "name": "stderr",
     "output_type": "stream",
     "text": [
      "\u001b[32m[ADVI] Optimizing...: 100%|█████████████████████████████████████████| Time: 0:01:50\u001b[39m\n"
     ]
    },
    {
     "data": {
      "image/png": "[encoded data removed]",
      "text/plain": [
       "Figure(PyObject <Figure size 640x480 with 1 Axes>)"
      ]
     },
     "metadata": {},
     "output_type": "display_data"
    },
    {
     "name": "stdout",
     "output_type": "stream",
     "text": [
      "110.930964 seconds (5.34 M allocations: 81.013 GiB, 6.97% gc time)\n"
     ]
    }
   ],
   "source": [
    "N = 200\n",
    "X = randn(N, 1) * 3\n",
    "y = sin.(vec(X)) + randn(N) * 0.1\n",
    "plt.scatter(vec(X), y)\n",
    "m = bnn(y, X, 5)  # data, num_components, nn_num_units\n",
    "q0 = Variational.meanfield(m)  # initialize variational distribution (optional)\n",
    "advi = ADVI(1, 2000)  # num_elbo_samples, max_iters\n",
    "@time q = vi(m, advi, q0, optimizer=Flux.ADAM(1e-1));"
   ]
  },
  {
   "cell_type": "code",
   "execution_count": 264,
   "metadata": {},
   "outputs": [
    {
     "data": {
      "text/plain": [
       "quantiles (generic function with 1 method)"
      ]
     },
     "execution_count": 264,
     "metadata": {},
     "output_type": "execute_result"
    }
   ],
   "source": [
    "function quantiles(X, q; dims, drop=false)\n",
    "  Q = mapslices(x -> quantile(x, q), X, dims=dims)\n",
    "  out = drop ? dropdims(Q, dims=dims) : Q\n",
    "  return out\n",
    "end"
   ]
  },
  {
   "cell_type": "code",
   "execution_count": 271,
   "metadata": {},
   "outputs": [
    {
     "data": {
      "image/png": "[encoded data removed]",
      "text/plain": [
       "Figure(PyObject <Figure size 640x480 with 1 Axes>)"
      ]
     },
     "metadata": {},
     "output_type": "display_data"
    },
    {
     "data": {
      "text/plain": [
       "1-element Array{PyCall.PyObject,1}:\n",
       " PyObject <matplotlib.lines.Line2D object at 0x7fde4fd9b160>"
      ]
     },
     "execution_count": 271,
     "metadata": {},
     "output_type": "execute_result"
    }
   ],
   "source": [
    "nsamples = 1000\n",
    "iqsamples = rand(q, nsamples)\n",
    "_, sym2range = Variational.bijector(m; sym_to_ranges = Val(true));\n",
    "extract(sym) = qsamples[collect(sym2range[sym][1]), :]\n",
    "\n",
    "nn_params = extract(:nn_params)\n",
    "num_units=5\n",
    "network_shape = [(num_units, 1, :tanh), (1, num_units, :tanh)]\n",
    "num_params = sum([i * o + i for (i, o, _) in network_shape])\n",
    "x = sort(randn(100, 1) * 3, dims=1)\n",
    "preds = [nn_forward(x', nn_params[:, i], network_shape) for i in 1:nsamples]\n",
    "preds = vcat(preds...)\n",
    "\n",
    "plt.scatter(vec(X), y)\n",
    "plt.plot(x, vec(quantiles(preds, 0.975, dims=1)), color=\"red\", lw=1)\n",
    "plt.plot(x, vec(mean(preds, dims=1)), color=\"red\", lw=2)\n",
    "plt.plot(x, vec(quantiles(preds, 0.025, dims=1)), color=\"red\", lw=1)"
   ]
  },
  {
   "cell_type": "code",
   "execution_count": null,
   "metadata": {},
   "outputs": [],
   "source": []
  }
 ],
 "metadata": {
  "kernelspec": {
   "display_name": "Julia 1.4.1",
   "language": "julia",
   "name": "julia-1.4"
  },
  "language_info": {
   "file_extension": ".jl",
   "mimetype": "application/julia",
   "name": "julia",
   "version": "1.4.1"
  }
 },
 "nbformat": 4,
 "nbformat_minor": 4
}

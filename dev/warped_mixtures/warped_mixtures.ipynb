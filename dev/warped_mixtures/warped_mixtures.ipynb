{
 "cells": [
  {
   "cell_type": "code",
   "execution_count": 1,
   "metadata": {},
   "outputs": [
    {
     "name": "stdout",
     "output_type": "stream",
     "text": [
      "Last updated: 2020-07-15T22:13:40.062\n"
     ]
    }
   ],
   "source": [
    "import Dates\n",
    "println(\"Last updated: \", Dates.now())"
   ]
  },
  {
   "cell_type": "code",
   "execution_count": 2,
   "metadata": {},
   "outputs": [
    {
     "name": "stderr",
     "output_type": "stream",
     "text": [
      "\u001b[32m\u001b[1m Activating\u001b[22m\u001b[39m environment at `~/repo/TuringBnpBenchmarks/Project.toml`\n"
     ]
    }
   ],
   "source": [
    "# Load environment\n",
    "import Pkg; Pkg.activate(\"../../\")"
   ]
  },
  {
   "cell_type": "code",
   "execution_count": 3,
   "metadata": {},
   "outputs": [],
   "source": [
    "# Import Libraries\n",
    "using Turing\n",
    "using Turing: Variational\n",
    "using Turing.RandomMeasures: stickbreak\n",
    "using Distributions\n",
    "using Distances\n",
    "using JSON3\n",
    "using PyPlot\n",
    "using StatsFuns\n",
    "import Random\n",
    "using BenchmarkTools\n",
    "using Flux\n",
    "import LinearAlgebra"
   ]
  },
  {
   "cell_type": "code",
   "execution_count": 4,
   "metadata": {},
   "outputs": [
    {
     "data": {
      "text/plain": [
       "make_extractor (generic function with 2 methods)"
      ]
     },
     "execution_count": 4,
     "metadata": {},
     "output_type": "execute_result"
    }
   ],
   "source": [
    "function quantiles(X, q; dims, drop=false)\n",
    "  Q = mapslices(x -> quantile(x, q), X, dims=dims)\n",
    "  out = drop ? dropdims(Q, dims=dims) : Q\n",
    "  return out\n",
    "end\n",
    "function make_extractor(m, q, nsamples=1000)\n",
    "    qsamples = rand(q, nsamples)\n",
    "    _, sym2range = Variational.bijector(m; sym_to_ranges = Val(true));\n",
    "    return sym -> qsamples[collect(sym2range[sym][1]), :]\n",
    "end"
   ]
  },
  {
   "cell_type": "code",
   "execution_count": 5,
   "metadata": {},
   "outputs": [
    {
     "data": {
      "text/plain": [
       "neural_net (generic function with 1 method)"
      ]
     },
     "execution_count": 5,
     "metadata": {},
     "output_type": "execute_result"
    }
   ],
   "source": [
    "# function neural_net(x, w1, b1, w2, b2)\n",
    "#     z = sigmoid.(x * w1 .+ b1)\n",
    "#     return z * w2 .+ b2\n",
    "# end\n",
    "\n",
    "# neural_net(randn(10, 2), randn(2, 5), randn(1, 5), randn(5,1), randn(1, 1))\n",
    "# neural_net(randn(10, 2), randn(2, 5), randn(1, 5), randn(5,2), randn(1, 2))\n",
    "\n",
    "function neural_net(x, w1, b1, w2, b2)\n",
    "    z = sigmoid.(w1 * x .+ b1)\n",
    "    return w2 * z .+ b2\n",
    "end\n",
    "\n",
    "# nn_shapes(n, k, u, o) = (u, k), u, (o, u), o\n",
    "# n, k, u, o = 10, 2, 5, 2\n",
    "# neural_net(randn(k, n), randn(nn_shapes(n,k,u,o)[1]), randn(u), randn(o, u), randn(o))"
   ]
  },
  {
   "cell_type": "code",
   "execution_count": 6,
   "metadata": {},
   "outputs": [],
   "source": [
    "function bivnormlogpdf(x, m, S)\n",
    "    K = length(m)\n",
    "    invS = inv(S)\n",
    "    z = (x - m)\n",
    "    log_numer = -z' * invS * z / 2\n",
    "    log_denom = 0.5 * (K * log(2*pi) + LinearAlgebra.logdet(S))\n",
    "    return sum(log_numer) - log_denom\n",
    "end\n",
    "\n",
    "eye(n::Int) = Matrix{Float64}(LinearAlgebra.I, n, n);"
   ]
  },
  {
   "cell_type": "code",
   "execution_count": 7,
   "metadata": {},
   "outputs": [
    {
     "data": {
      "text/plain": [
       "make_cov (generic function with 1 method)"
      ]
     },
     "execution_count": 7,
     "metadata": {},
     "output_type": "execute_result"
    }
   ],
   "source": [
    "function make_cov(sigx, sigy, rho)\n",
    "    c = sigx * sigy * rho\n",
    "    sx2 = sigx*sigx\n",
    "    sy2 = sigy*sigy\n",
    "    return reshape([sx2, c, c, sy2], 2, 2)\n",
    "end\n",
    "\n",
    "# inv(make_cov(rand()*2, rand()*2, rand()*2 - 1))"
   ]
  },
  {
   "cell_type": "code",
   "execution_count": 8,
   "metadata": {},
   "outputs": [
    {
     "data": {
      "text/plain": [
       "Identity{1}()"
      ]
     },
     "execution_count": 8,
     "metadata": {},
     "output_type": "execute_result"
    }
   ],
   "source": [
    "Bijectors.bijector(MvNormal(0, 1))"
   ]
  },
  {
   "cell_type": "code",
   "execution_count": 9,
   "metadata": {},
   "outputs": [
    {
     "data": {
      "text/plain": [
       "AbstractMixtureModel{Multivariate,S,C} where C<:Distribution where S<:ValueSupport"
      ]
     },
     "execution_count": 9,
     "metadata": {},
     "output_type": "execute_result"
    }
   ],
   "source": [
    "MultivariateMixture"
   ]
  },
  {
   "cell_type": "code",
   "execution_count": 10,
   "metadata": {},
   "outputs": [
    {
     "data": {
      "text/plain": [
       "DiscreteNonParametric{Int64,Float64,Base.OneTo{Int64},Array{Float64,1}}(support=Base.OneTo(3), p=[0.5, 0.3, 0.2])"
      ]
     },
     "execution_count": 10,
     "metadata": {},
     "output_type": "execute_result"
    }
   ],
   "source": [
    "mm = MixtureModel(Normal.(randn(3), 1), [.5, .3, .2])\n",
    "mm.prior"
   ]
  },
  {
   "cell_type": "code",
   "execution_count": 11,
   "metadata": {},
   "outputs": [],
   "source": [
    "# struct MvGMM{M,S,W} <: ContinuousMultivariateDistribution\n",
    "# struct MvGMM{M,S,W} <: MultivariateMixture\n",
    "# struct MvGMM{M,S,W} <: AbstractMixtureModel{Multivariate, Continuous, MvNormal}\n",
    "struct MvGMM <: ContinuousMultivariateDistribution\n",
    "    mu\n",
    "    Sigma\n",
    "    w\n",
    "end\n",
    "\n",
    "# MultivariateMixture <: AbstractMixtureModel{Multivariate, Continuous, MvNormal}"
   ]
  },
  {
   "cell_type": "code",
   "execution_count": 12,
   "metadata": {},
   "outputs": [],
   "source": [
    "function Distributions.rand(rng::Random.AbstractRNG, d::MvGMM)\n",
    "    D, K = size(d.mu)  # dimension x num_components\n",
    "    k = rand(Categorical(d.w)) \n",
    "    return rand(MvNormal(d.mu[:, k], d.Sigma[k]))\n",
    "end\n",
    "\n",
    "function Distributions.rand(rng::Random.AbstractRNG, d::MvGMM, n::Int)\n",
    "    return Matrix(hcat([Distributions.rand(rng, d) for _ in 1:n]...)')\n",
    "end\n",
    "\n",
    "function Distributions.logpdf(d::MvGMM, x::AbstractVector{<:Real})\n",
    "    D, K = size(d.mu)  # dimension x num_components\n",
    "    ll = [logpdf(MvNormal(d.mu[:, k], d.Sigma[k]), x) for k in 1:K]\n",
    "    return logsumexp(ll .+ log.(d.w))\n",
    "end\n",
    "\n",
    "function Distributions.logpdf(d::MvGMM, x::AbstractMatrix{<:Real})\n",
    "    D, K = size(d.mu)  # dimension x num_components\n",
    "    \n",
    "    # x: number of observations x dimensions\n",
    "    N = size(x, 1)\n",
    "    \n",
    "    out = 0.0\n",
    "    for i in 1:N\n",
    "        ll = [logpdf(MvNormal(d.mu[:, k], d.Sigma[k]), x[i, :]) for k in 1:K]\n",
    "        out += logsumexp(ll .+ log.(d.w))\n",
    "    end\n",
    "    \n",
    "    return out\n",
    "end\n",
    "\n",
    "Bijectors.bijector(d::MvGMM) = Identity{1}()\n",
    "# Bijectors.bijector(d::MvGMM) = Bijectors.TruncatedBijector{1,Float64,Float64}(-Inf, Inf)\n",
    "\n",
    "# Example:\n",
    "# Sigma = [make_cov(.5, .5, .5) for _ in 1:5]\n",
    "# mvgmm = MvGMM(randn(2,5), Sigma, stickbreak(rand(4)))\n",
    "# x = rand(mvgmm)\n",
    "# logpdf(mvgmm, x)\n",
    "# bijector(mvgmm)\n",
    "# x = rand(mvgmm, 10)\n",
    "# filldist(mvgmm, 2)"
   ]
  },
  {
   "cell_type": "code",
   "execution_count": 13,
   "metadata": {},
   "outputs": [],
   "source": [
    "# filldist(Normal(0,1), 3)"
   ]
  },
  {
   "cell_type": "markdown",
   "metadata": {},
   "source": [
    "***\n",
    "# Warp GP mixture model"
   ]
  },
  {
   "cell_type": "code",
   "execution_count": 14,
   "metadata": {},
   "outputs": [
    {
     "data": {
      "text/plain": [
       "DynamicPPL.ModelGen{var\"###generator#421\",(:y, :X, :m, :s, :cov_fn),(:m, :s, :cov_fn),Tuple{Int64,Int64,typeof(exp_cov_fn)}}(##generator#421, (m = 0, s = 1, cov_fn = exp_cov_fn))"
      ]
     },
     "execution_count": 14,
     "metadata": {},
     "output_type": "execute_result"
    }
   ],
   "source": [
    "sqexp_cov_fn(D, phi, eps=1e-3) = exp.(-D .^ 2 / phi) + LinearAlgebra.I * eps\n",
    "exp_cov_fn(D, phi) = exp.(-D / phi)\n",
    "\n",
    "@model function GP(y, X, m=0, s=1, cov_fn=exp_cov_fn)\n",
    "    N, P = size(X)\n",
    "    D = pairwise(Distances.Euclidean(), X, dims=1)\n",
    "    \n",
    "    mu ~ Normal(m, s)\n",
    "    sig2 ~ LogNormal(0, 1)\n",
    "    phi ~ LogNormal(0, 10)\n",
    "    K = cov_fn(D, phi)\n",
    "    \n",
    "    y ~ MvNormal(mu * ones(N), K + sig2 * LinearAlgebra.I(N))\n",
    "end"
   ]
  },
  {
   "cell_type": "code",
   "execution_count": 15,
   "metadata": {},
   "outputs": [
    {
     "data": {
      "image/png": "[encoded data removed]",
      "text/plain": [
       "Figure(PyObject <Figure size 640x480 with 1 Axes>)"
      ]
     },
     "metadata": {},
     "output_type": "display_data"
    }
   ],
   "source": [
    "Random.seed!(1)\n",
    "N = 150\n",
    "X = randn(N, 1) * 3\n",
    "y = sin.(vec(X)) + randn(N) * 0.3\n",
    "plt.scatter(vec(X), y);"
   ]
  },
  {
   "cell_type": "code",
   "execution_count": 16,
   "metadata": {},
   "outputs": [
    {
     "data": {
      "text/plain": [
       "Stacked{Tuple{Identity{0},Bijectors.Log{0},Bijectors.Log{0},Identity{1}},4}"
      ]
     },
     "execution_count": 16,
     "metadata": {},
     "output_type": "execute_result"
    }
   ],
   "source": [
    "# bijector(GP(y, X))\n",
    "Stacked{Tuple{Identity{0},Bijectors.Log{0},Bijectors.Log{0},Bijectors.Identity{1}},4}"
   ]
  },
  {
   "cell_type": "code",
   "execution_count": 17,
   "metadata": {},
   "outputs": [
    {
     "name": "stderr",
     "output_type": "stream",
     "text": [
      "\u001b[32m[ADVI] Optimizing...: 100%|█████████████████████████████████████████| Time: 0:00:21\u001b[39m\n"
     ]
    },
    {
     "name": "stdout",
     "output_type": "stream",
     "text": [
      " 27.847456 seconds (17.67 M allocations: 19.078 GiB, 5.29% gc time)\n"
     ]
    }
   ],
   "source": [
    "Random.seed!(1)\n",
    "m = GP(y, X, 0, 1, sqexp_cov_fn)  # data, num_components, nn_num_units\n",
    "q0 = Variational.meanfield(m)  # initialize variational distribution (optional)\n",
    "advi = ADVI(1, 2000)  # num_elbo_samples, max_iters\n",
    "@time q = vi(m, advi, q0, optimizer=Flux.ADAM(1e-1));"
   ]
  },
  {
   "cell_type": "code",
   "execution_count": 18,
   "metadata": {},
   "outputs": [],
   "source": [
    "extract_gp = make_extractor(m, q)\n",
    "mu = vec(extract_gp(:mu))\n",
    "sig2 = vec(extract_gp(:sig2))\n",
    "phi = vec(extract_gp(:phi));"
   ]
  },
  {
   "cell_type": "code",
   "execution_count": 19,
   "metadata": {},
   "outputs": [
    {
     "data": {
      "text/plain": [
       "make_gp_predict (generic function with 1 method)"
      ]
     },
     "execution_count": 19,
     "metadata": {},
     "output_type": "execute_result"
    }
   ],
   "source": [
    "function make_gp_predict(Xnew, y, X, cov_fn)\n",
    "    N = size(X, 1)\n",
    "    M = size(Xnew, 1)\n",
    "    Q = N + M\n",
    "    Z = [Xnew; X]\n",
    "    D = pairwise(Euclidean(), Z, dims=1)\n",
    "    \n",
    "    return (mu, sig2, phi) -> let\n",
    "        K = cov_fn(D, phi)\n",
    "        Koo_inv = inv(K[(M+1):end, (M+1):end])\n",
    "        Knn = K[1:M, 1:M]\n",
    "        Kno = K[1:M, (M+1):end]\n",
    "        C = Kno * Koo_inv\n",
    "        m = C * (y .- mu) .+ mu\n",
    "        S = Matrix(LinearAlgebra.Hermitian(Knn - C * Kno'))\n",
    "        # Base.show(stdout, \"text/plain\", S[1:3, 1:3])\n",
    "        mvn = MvNormal(m, S + sig2 * LinearAlgebra.I)\n",
    "        rand(mvn)\n",
    "    end\n",
    "end"
   ]
  },
  {
   "cell_type": "code",
   "execution_count": 20,
   "metadata": {},
   "outputs": [],
   "source": [
    "Xnew = sort(rand(Uniform(minimum(X) - 2, maximum(X) + 2), 100, 1), dims=1)\n",
    "gp_predict = make_gp_predict(Xnew, y, X, sqexp_cov_fn)\n",
    "ynew = [gp_predict(mu[m], sig2[m], phi[m]) for m in 1:length(mu)]\n",
    "ynew = hcat(ynew...);"
   ]
  },
  {
   "cell_type": "code",
   "execution_count": 21,
   "metadata": {},
   "outputs": [
    {
     "data": {
      "image/png": "[encoded data removed]",
      "text/plain": [
       "Figure(PyObject <Figure size 640x480 with 1 Axes>)"
      ]
     },
     "metadata": {},
     "output_type": "display_data"
    }
   ],
   "source": [
    "pred_mean = mean(ynew, dims=2)\n",
    "pred_lower = quantiles(ynew, 0.025, dims=2)\n",
    "pred_upper = quantiles(ynew, 0.975, dims=2)\n",
    "plt.plot(vec(Xnew), vec(pred_mean), color=\"red\")\n",
    "plt.scatter(vec(X), vec(y), color=\"grey\")\n",
    "plt.fill_between(vec(Xnew), vec(pred_upper), vec(pred_lower), color=\"red\", alpha=0.2);"
   ]
  },
  {
   "cell_type": "markdown",
   "metadata": {},
   "source": [
    "***\n",
    "# Warped Mixture with GP"
   ]
  },
  {
   "cell_type": "code",
   "execution_count": 22,
   "metadata": {},
   "outputs": [
    {
     "data": {
      "text/plain": [
       "mvnorm_mix_logpdf (generic function with 1 method)"
      ]
     },
     "execution_count": 22,
     "metadata": {},
     "output_type": "execute_result"
    }
   ],
   "source": [
    "function mvnorm_mix_logpdf(x, mu, Sigma, w)\n",
    "    D, K = size(mu)  # dimension x num_components\n",
    "    ll = [logpdf(MvNormal(mu[:, k], Sigma[k]), x) for k in 1:K]\n",
    "    return logsumexp(ll .+ log.(w))\n",
    "end"
   ]
  },
  {
   "cell_type": "code",
   "execution_count": 23,
   "metadata": {},
   "outputs": [],
   "source": [
    "mm = MixtureModel([MvNormal(zeros(2), 1) for _ in 1:3])\n",
    "# Bijectors.bijector(d::MixtureModel{MvNormal{T}}) where T = identity{1}()\n",
    "Bijectors.bijector(d::MixtureModel{MvNormal{T}}) where T = Bijectors.TruncatedBijector{1, Float64, Float64}(-Inf, Inf)"
   ]
  },
  {
   "cell_type": "code",
   "execution_count": 24,
   "metadata": {},
   "outputs": [],
   "source": [
    "# bijector(mm)\n",
    "# bijector(MixtureModel([Normal(0, 1) for _ in 1:2]))"
   ]
  },
  {
   "cell_type": "code",
   "execution_count": null,
   "metadata": {},
   "outputs": [],
   "source": []
  },
  {
   "cell_type": "code",
   "execution_count": 25,
   "metadata": {},
   "outputs": [
    {
     "data": {
      "text/plain": [
       "DynamicPPL.ModelGen{var\"###generator#471\",(:Y, :nmix, :cov_fn),(:nmix, :cov_fn),Tuple{Int64,typeof(exp_cov_fn)}}(##generator#471, (nmix = 5, cov_fn = exp_cov_fn))"
      ]
     },
     "execution_count": 25,
     "metadata": {},
     "output_type": "execute_result"
    }
   ],
   "source": [
    "@model function warped_gp_mixture(Y, nmix=5, cov_fn=exp_cov_fn)\n",
    "    nobs, nfeatures = size(Y)\n",
    "    \n",
    "    # Mixture weights\n",
    "    w ~ Dirichlet(nmix, 1.0/nmix)\n",
    "    \n",
    "    # Mixture components:\n",
    "    mu ~ filldist(MvNormal(zeros(2), 1.0), nmix)  # D x nmix\n",
    "    # Sigma = Vector{Matrix{Float64}}(undef, nmix)\n",
    "    # for k in 1:nmix\n",
    "    #     Sigma[k] ~ InverseWishart(nfeatures + 2.0, eye(nfeatures))\n",
    "    # end\n",
    "    S1 ~ InverseWishart(nfeatures + 2.0, eye(nfeatures))\n",
    "    S2 ~ InverseWishart(nfeatures + 2.0, eye(nfeatures))\n",
    "    S3 ~ InverseWishart(nfeatures + 2.0, eye(nfeatures))\n",
    "    S4 ~ InverseWishart(nfeatures + 2.0, eye(nfeatures))\n",
    "    S5 ~ InverseWishart(nfeatures + 2.0, eye(nfeatures))\n",
    "    \n",
    "    # Latent variables.\n",
    "    X ~ filldist(MixtureModel([MvNormal(mu[:, k], Sigma[k]) for k in 1:nmix]), nobs)\n",
    "    # X ~ filldist(MvGMM(mu, [S1, S2, S3, S4, S5], w), nobs)\n",
    "    # X ~ filldist(MvGMM(mu, Sigma, w), nobs)\n",
    "    # Base.show(stdout, \"text/plain\", X[1:10, :]); println()\n",
    "    \n",
    "    # Co/Vairance parameters\n",
    "    v ~ LogNormal(0, 1)\n",
    "    phi ~ LogNormal(0, 10)\n",
    "    \n",
    "    # Sampling distribution.\n",
    "    for d in 1:nfeatures\n",
    "        Dd = pairwise(Euclidean(), reshape(X[d, :], nobs, 1), dims=1)\n",
    "        Cd = cov_fn(Dd, phi)   \n",
    "        Y[:, d] ~ MvNormal(zeros(nobs), Cd + LinearAlgebra.I * v)\n",
    "    end\n",
    "end"
   ]
  },
  {
   "cell_type": "code",
   "execution_count": 26,
   "metadata": {},
   "outputs": [
    {
     "data": {
      "image/png": "[encoded data removed]",
      "text/plain": [
       "Figure(PyObject <Figure size 640x480 with 1 Axes>)"
      ]
     },
     "metadata": {},
     "output_type": "display_data"
    }
   ],
   "source": [
    "# Warped Data\n",
    "function make_warped_data(n1=100, n2=200, r=2, s=0.15)\n",
    "    Y1 = zeros(n1, 2)\n",
    "    x2 = rand(n2) * r * 2 .- r\n",
    "    y2 = sqrt.(r .^ 2 .- x2 .^ 2)\n",
    "    Y2 = [x2 y2]\n",
    "    return [Y1; Y2] + randn(n1 + n2, 2) * s\n",
    "end\n",
    "Y_warped = make_warped_data()\n",
    "plt.scatter(Y_warped[:, 1], Y_warped[:, 2]);"
   ]
  },
  {
   "cell_type": "code",
   "execution_count": 27,
   "metadata": {},
   "outputs": [
    {
     "ename": "UndefVarError",
     "evalue": "UndefVarError: Sigma not defined",
     "output_type": "error",
     "traceback": [
      "UndefVarError: Sigma not defined",
      "",
      "Stacktrace:",
      " [1] (::var\"#25#27\"{Array{Float64,2}})(::Int64) at ./none:0",
      " [2] iterate at ./generator.jl:47 [inlined]",
      " [3] collect(::Base.Generator{UnitRange{Int64},var\"#25#27\"{Array{Float64,2}}}) at ./array.jl:665",
      " [4] macro expansion at ./In[25]:20 [inlined]",
      " [5] ##evaluator#470(::Random._GLOBAL_RNG, ::DynamicPPL.Model{var\"###evaluator#470\",(:Y, :nmix, :cov_fn),Tuple{Array{Float64,2},Int64,typeof(sqexp_cov_fn)},(),DynamicPPL.ModelGen{var\"###generator#471\",(:Y, :nmix, :cov_fn),(:nmix, :cov_fn),Tuple{Int64,typeof(exp_cov_fn)}}}, ::DynamicPPL.VarInfo{DynamicPPL.Metadata{Dict{DynamicPPL.VarName,Int64},Array{Distribution,1},Array{DynamicPPL.VarName,1},Array{Real,1},Array{Set{DynamicPPL.Selector},1}},Float64}, ::DynamicPPL.SampleFromPrior, ::DynamicPPL.DefaultContext) at /home/ubuntu/.julia/packages/DynamicPPL/MRwtL/src/compiler.jl:356",
      " [6] evaluate_threadunsafe at /home/ubuntu/.julia/packages/DynamicPPL/MRwtL/src/model.jl:157 [inlined]",
      " [7] Model at /home/ubuntu/.julia/packages/DynamicPPL/MRwtL/src/model.jl:136 [inlined]",
      " [8] Model at /home/ubuntu/.julia/packages/DynamicPPL/MRwtL/src/model.jl:126 [inlined]",
      " [9] VarInfo at /home/ubuntu/.julia/packages/DynamicPPL/MRwtL/src/varinfo.jl:110 [inlined]",
      " [10] VarInfo at /home/ubuntu/.julia/packages/DynamicPPL/MRwtL/src/varinfo.jl:109 [inlined]",
      " [11] meanfield(::Random._GLOBAL_RNG, ::DynamicPPL.Model{var\"###evaluator#470\",(:Y, :nmix, :cov_fn),Tuple{Array{Float64,2},Int64,typeof(sqexp_cov_fn)},(),DynamicPPL.ModelGen{var\"###generator#471\",(:Y, :nmix, :cov_fn),(:nmix, :cov_fn),Tuple{Int64,typeof(exp_cov_fn)}}}) at /home/ubuntu/.julia/packages/Turing/NZ9IU/src/variational/advi.jl:65",
      " [12] meanfield(::DynamicPPL.Model{var\"###evaluator#470\",(:Y, :nmix, :cov_fn),Tuple{Array{Float64,2},Int64,typeof(sqexp_cov_fn)},(),DynamicPPL.ModelGen{var\"###generator#471\",(:Y, :nmix, :cov_fn),(:nmix, :cov_fn),Tuple{Int64,typeof(exp_cov_fn)}}}) at /home/ubuntu/.julia/packages/Turing/NZ9IU/src/variational/advi.jl:62",
      " [13] top-level scope at In[27]:3"
     ]
    }
   ],
   "source": [
    "Random.seed!(0)\n",
    "m = warped_gp_mixture(Y_warped, 1, sqexp_cov_fn)\n",
    "q0 = Variational.meanfield(m)  # initialize variational distribution (optional)\n",
    "# advi = ADVI(1, 2000)  # num_elbo_samples, max_iters\n",
    "# @time q = vi(m, advi, q0, optimizer=Flux.ADAM(1e-1));"
   ]
  },
  {
   "cell_type": "code",
   "execution_count": 28,
   "metadata": {},
   "outputs": [
    {
     "ename": "UndefVarError",
     "evalue": "UndefVarError: Sigma not defined",
     "output_type": "error",
     "traceback": [
      "UndefVarError: Sigma not defined",
      "",
      "Stacktrace:",
      " [1] (::var\"#25#27\"{Array{Float64,2}})(::Int64) at ./none:0",
      " [2] iterate at ./generator.jl:47 [inlined]",
      " [3] collect(::Base.Generator{UnitRange{Int64},var\"#25#27\"{Array{Float64,2}}}) at ./array.jl:665",
      " [4] macro expansion at ./In[25]:20 [inlined]",
      " [5] ##evaluator#470(::Random._GLOBAL_RNG, ::DynamicPPL.Model{var\"###evaluator#470\",(:Y, :nmix, :cov_fn),Tuple{Array{Float64,2},Int64,typeof(sqexp_cov_fn)},(),DynamicPPL.ModelGen{var\"###generator#471\",(:Y, :nmix, :cov_fn),(:nmix, :cov_fn),Tuple{Int64,typeof(exp_cov_fn)}}}, ::DynamicPPL.VarInfo{DynamicPPL.Metadata{Dict{DynamicPPL.VarName,Int64},Array{Distribution,1},Array{DynamicPPL.VarName,1},Array{Real,1},Array{Set{DynamicPPL.Selector},1}},Float64}, ::DynamicPPL.SampleFromPrior, ::DynamicPPL.DefaultContext) at /home/ubuntu/.julia/packages/DynamicPPL/MRwtL/src/compiler.jl:356",
      " [6] evaluate_threadunsafe at /home/ubuntu/.julia/packages/DynamicPPL/MRwtL/src/model.jl:157 [inlined]",
      " [7] Model at /home/ubuntu/.julia/packages/DynamicPPL/MRwtL/src/model.jl:136 [inlined]",
      " [8] Model at /home/ubuntu/.julia/packages/DynamicPPL/MRwtL/src/model.jl:126 [inlined]",
      " [9] VarInfo at /home/ubuntu/.julia/packages/DynamicPPL/MRwtL/src/varinfo.jl:110 [inlined]",
      " [10] VarInfo at /home/ubuntu/.julia/packages/DynamicPPL/MRwtL/src/varinfo.jl:109 [inlined]",
      " [11] Turing.Inference.SMCState(::DynamicPPL.Model{var\"###evaluator#470\",(:Y, :nmix, :cov_fn),Tuple{Array{Float64,2},Int64,typeof(sqexp_cov_fn)},(),DynamicPPL.ModelGen{var\"###generator#471\",(:Y, :nmix, :cov_fn),(:nmix, :cov_fn),Tuple{Int64,typeof(exp_cov_fn)}}}) at /home/ubuntu/.julia/packages/Turing/NZ9IU/src/inference/AdvancedSMC.jl:80",
      " [12] DynamicPPL.Sampler(::SMC{(),Turing.Core.ResampleWithESSThreshold{typeof(Turing.Inference.resample_systematic),Float64}}, ::DynamicPPL.Model{var\"###evaluator#470\",(:Y, :nmix, :cov_fn),Tuple{Array{Float64,2},Int64,typeof(sqexp_cov_fn)},(),DynamicPPL.ModelGen{var\"###generator#471\",(:Y, :nmix, :cov_fn),(:nmix, :cov_fn),Tuple{Int64,typeof(exp_cov_fn)}}}, ::DynamicPPL.Selector) at /home/ubuntu/.julia/packages/Turing/NZ9IU/src/inference/AdvancedSMC.jl:88",
      " [13] Sampler at /home/ubuntu/.julia/packages/DynamicPPL/MRwtL/src/sampler.jl:55 [inlined]",
      " [14] sample(::Random._GLOBAL_RNG, ::DynamicPPL.Model{var\"###evaluator#470\",(:Y, :nmix, :cov_fn),Tuple{Array{Float64,2},Int64,typeof(sqexp_cov_fn)},(),DynamicPPL.ModelGen{var\"###generator#471\",(:Y, :nmix, :cov_fn),(:nmix, :cov_fn),Tuple{Int64,typeof(exp_cov_fn)}}}, ::SMC{(),Turing.Core.ResampleWithESSThreshold{typeof(Turing.Inference.resample_systematic),Float64}}, ::Int64; kwargs::Base.Iterators.Pairs{Union{},Union{},Tuple{},NamedTuple{(),Tuple{}}}) at /home/ubuntu/.julia/packages/Turing/NZ9IU/src/inference/Inference.jl:165",
      " [15] sample at /home/ubuntu/.julia/packages/Turing/NZ9IU/src/inference/Inference.jl:165 [inlined]",
      " [16] #sample#1 at /home/ubuntu/.julia/packages/Turing/NZ9IU/src/inference/Inference.jl:155 [inlined]",
      " [17] sample(::DynamicPPL.Model{var\"###evaluator#470\",(:Y, :nmix, :cov_fn),Tuple{Array{Float64,2},Int64,typeof(sqexp_cov_fn)},(),DynamicPPL.ModelGen{var\"###generator#471\",(:Y, :nmix, :cov_fn),(:nmix, :cov_fn),Tuple{Int64,typeof(exp_cov_fn)}}}, ::SMC{(),Turing.Core.ResampleWithESSThreshold{typeof(Turing.Inference.resample_systematic),Float64}}, ::Int64) at /home/ubuntu/.julia/packages/Turing/NZ9IU/src/inference/Inference.jl:155",
      " [18] top-level scope at In[28]:1"
     ]
    }
   ],
   "source": [
    "chain = sample(m, SMC(), 1000)"
   ]
  },
  {
   "cell_type": "code",
   "execution_count": 29,
   "metadata": {},
   "outputs": [
    {
     "ename": "UndefVarError",
     "evalue": "UndefVarError: mvgmm not defined",
     "output_type": "error",
     "traceback": [
      "UndefVarError: mvgmm not defined",
      "",
      "Stacktrace:",
      " [1] top-level scope at In[29]:1"
     ]
    }
   ],
   "source": [
    "length(mvgmm)"
   ]
  },
  {
   "cell_type": "code",
   "execution_count": null,
   "metadata": {},
   "outputs": [],
   "source": []
  }
 ],
 "metadata": {
  "kernelspec": {
   "display_name": "Julia 1.4.1",
   "language": "julia",
   "name": "julia-1.4"
  },
  "language_info": {
   "file_extension": ".jl",
   "mimetype": "application/julia",
   "name": "julia",
   "version": "1.4.1"
  }
 },
 "nbformat": 4,
 "nbformat_minor": 4
}

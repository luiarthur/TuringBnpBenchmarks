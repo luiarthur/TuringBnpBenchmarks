{
 "cells": [
  {
   "cell_type": "code",
   "execution_count": 375,
   "metadata": {},
   "outputs": [
    {
     "name": "stdout",
     "output_type": "stream",
     "text": [
      "Last updated: 2020-07-02T19:03:29.298 (PT)\n"
     ]
    }
   ],
   "source": [
    "import Dates\n",
    "println(\"Last updated: \", Dates.now(), \" (PT)\")"
   ]
  },
  {
   "cell_type": "code",
   "execution_count": 376,
   "metadata": {},
   "outputs": [
    {
     "name": "stderr",
     "output_type": "stream",
     "text": [
      "\u001b[32m\u001b[1m Activating\u001b[22m\u001b[39m environment at `~/repo/TuringBnpBenchmarks/Project.toml`\n"
     ]
    }
   ],
   "source": [
    "# Load environment\n",
    "import Pkg; Pkg.activate(\"../../../\")"
   ]
  },
  {
   "cell_type": "code",
   "execution_count": 377,
   "metadata": {},
   "outputs": [
    {
     "name": "stderr",
     "output_type": "stream",
     "text": [
      "WARNING: replacing module BnpUtil.\n"
     ]
    }
   ],
   "source": [
    "# Import Libraries\n",
    "using DynamicPPL\n",
    "using Turing\n",
    "using Turing: Variational\n",
    "import Turing.RandomMeasures.DirichletProcess\n",
    "import Turing.RandomMeasures.ChineseRestaurantProcess\n",
    "using Distributions\n",
    "using JSON3\n",
    "using PyPlot\n",
    "using StatsFuns\n",
    "import Random\n",
    "import StatsBase.countmap\n",
    "include(joinpath(@__DIR__, \"../util/BnpUtil.jl\"));"
   ]
  },
  {
   "cell_type": "code",
   "execution_count": 378,
   "metadata": {},
   "outputs": [
    {
     "data": {
      "text/plain": [
       "Dict{Symbol,Array{Any,1}} with 5 entries:\n",
       "  :w        => Any[0.220078, 0.291918, 0.2498, 0.238204]\n",
       "  :mu       => Any[-1.47027, -0.46176, 0.440237, 1.49896]\n",
       "  :sig      => Any[0.148861, 0.121097, 0.195192, 0.19999]\n",
       "  :y        => Any[-0.564699, -0.324993, -0.625064, -1.28564, -0.468499, -1.357…\n",
       "  :rand_idx => Any[2, 2, 2, 1, 2, 1, 4, 4, 2, 4  …  2, 4, 3, 2, 1, 3, 4, 3, 2, …"
      ]
     },
     "execution_count": 378,
     "metadata": {},
     "output_type": "execute_result"
    }
   ],
   "source": [
    "# Directory where all simulation data are stored.\n",
    "data_dir = joinpath(@__DIR__, \"../../data/sim-data\")\n",
    "path_to_data = joinpath(data_dir, \"gmm-data-n50.json\")\n",
    "# path_to_data = joinpath(data_dir, \"gmm-data-n200.json\")\n",
    "\n",
    "# Load data in JSON format.\n",
    "data = let\n",
    "    x = open(f -> read(f, String), path_to_data)\n",
    "    JSON3.read(x, Dict{Symbol, Vector{Any}})\n",
    "end"
   ]
  },
  {
   "cell_type": "code",
   "execution_count": 379,
   "metadata": {},
   "outputs": [
    {
     "data": {
      "image/png": "[encoded data removed]",
      "text/plain": [
       "Figure(PyObject <Figure size 640x480 with 1 Axes>)"
      ]
     },
     "metadata": {},
     "output_type": "display_data"
    }
   ],
   "source": [
    "# Convert data to vector of floats\n",
    "y = Float64.(data[:y]);\n",
    "\n",
    "# Visualize data\n",
    "plt.hist(y, bins=50, density=true)\n",
    "plt.xlabel(\"y\")\n",
    "plt.ylabel(\"density\")\n",
    "plt.title(\"Histogram of data\");"
   ]
  },
  {
   "cell_type": "code",
   "execution_count": 380,
   "metadata": {},
   "outputs": [
    {
     "data": {
      "text/plain": [
       "counts_plot (generic function with 1 method)"
      ]
     },
     "execution_count": 380,
     "metadata": {},
     "output_type": "execute_result"
    }
   ],
   "source": [
    "function counts_plot(x; density=false, color=\"C0\", lw=4)\n",
    "    cm_x = countmap(x)\n",
    "    number = collect(keys(cm_x))\n",
    "    count = let\n",
    "        c = collect(values(cm_x))\n",
    "        density ? c / sum(c) : c\n",
    "    end\n",
    "    plt.vlines(number, 0, count, color=color, lw=lw)\n",
    "end"
   ]
  },
  {
   "cell_type": "code",
   "execution_count": 381,
   "metadata": {},
   "outputs": [],
   "source": [
    "# DP GMM model under CRP construction\n",
    "@model dp_gmm_crp(y) = begin\n",
    "    nobs = length(y)\n",
    "    \n",
    "    alpha ~ Gamma(1, 1)  # mean = a*b\n",
    "    rpm = DirichletProcess(alpha)\n",
    "    \n",
    "    # Base measure.\n",
    "    H = arraydist([Normal(0, 3), InverseGamma(2, 0.05)])\n",
    "    \n",
    "    # Latent assignment.\n",
    "    z = tzeros(Int, nobs) * 0.1\n",
    "    \n",
    "    # Locations and scales of infinitely many clusters.\n",
    "    mu_sigma = TArray(Vector{Float64}, 0)\n",
    "    \n",
    "    for i in 1:nobs\n",
    "        # Number of clusters.\n",
    "        K = maximum(z)\n",
    "        n = Vector{Int}([sum(z .== k) for k in 1:K])\n",
    "        \n",
    "        # Sample cluster label.\n",
    "        z[i] ~ ChineseRestaurantProcess(rpm,  n)\n",
    "        \n",
    "        # Create a new cluster.\n",
    "        if z[i] > K\n",
    "            push!(mu_sigma, [0.0, 0.1])\n",
    "            mu_sigma[z[i]] ~ H\n",
    "        end\n",
    "        \n",
    "        # Sampling distribution.\n",
    "        mu, sigma = mu_sigma[z[i]]\n",
    "        y[i] ~ Normal(mu, sigma)\n",
    "    end\n",
    "end\n",
    ";"
   ]
  },
  {
   "cell_type": "code",
   "execution_count": 382,
   "metadata": {},
   "outputs": [
    {
     "data": {
      "text/plain": [
       "ModelGen{var\"###generator#1633019\",(:y, :Kmax),(),Tuple{}}(##generator#1633019, NamedTuple())"
      ]
     },
     "execution_count": 382,
     "metadata": {},
     "output_type": "execute_result"
    }
   ],
   "source": [
    "@model dp_gmm_crp_delayed(y, Kmax) = begin\n",
    "    nobs = length(y)\n",
    "    \n",
    "    alpha ~ Gamma(1, 1)  # mean = a*b\n",
    "    rpm = DirichletProcess(alpha)\n",
    "    \n",
    "    # Base measure.\n",
    "    H_mu = Normal(0, 3)\n",
    "    H_sigma = InverseGamma(2, 0.05)\n",
    "    \n",
    "    # Latent assignment.\n",
    "    z = tzeros(Int, nobs)\n",
    "    n = tzeros(Int, nobs)\n",
    "    K = 0\n",
    "\n",
    "    mu = tzeros(Float64, Kmax)\n",
    "    sigma = tzeros(Float64, Kmax)\n",
    "\n",
    "    for i in 1:nobs\n",
    "        z[i] ~ ChineseRestaurantProcess(rpm,  n)\n",
    "        n[z[i]] += 1\n",
    "\n",
    "        if z[i] > K\n",
    "            mu[z[i]] ~ H_mu\n",
    "            sigma[z[i]] ~ H_sigma\n",
    "            K += 1\n",
    "        end\n",
    "    end\n",
    "\n",
    "    for i in 1:nobs\n",
    "        y[i] ~ Normal(mu[z[i]], sigma[z[i]])\n",
    "    end\n",
    "end"
   ]
  },
  {
   "cell_type": "code",
   "execution_count": null,
   "metadata": {},
   "outputs": [
    {
     "name": "stderr",
     "output_type": "stream",
     "text": [
      "\u001b[32mSampling:  82%|█████████████████████████████████▌       |  ETA: 0:00:26\u001b[39m"
     ]
    }
   ],
   "source": [
    "# Set random seed for reproducibility\n",
    "Random.seed!(0);\n",
    "\n",
    "# Compile time approx. 32s.\n",
    "# Run time approx. 70s\n",
    "\n",
    "@time chain = begin\n",
    "    burn = 1000  # NOTE: The burn in is also returned. Discard manually.\n",
    "    n_samples = 1000\n",
    "    iterations = burn + n_samples\n",
    "\n",
    "    # sample(dp_gmm_crp_delayed(y, 20), SMC(1.0), iterations)\n",
    "    sample(dp_gmm_crp_delayed(y, 30), PG(20), iterations)\n",
    "    # sample(dp_gmm_crp_delayed(y, 15), SMC(), iterations)\n",
    "    # sample(dp_gmm_crp_delayed(y, 30), Gibbs(PG(20, :z), PG(10, :alpha, :mu, :sigma)), iterations)\n",
    "    # sample(dp_gmm_crp_delayed(y, 15), Gibbs(PG(20, :z), PG(10, :mu, :sigma)), iterations)\n",
    "    # sample(dp_gmm_crp_delayed(y, 30), Gibbs(MH(0.1, :alpha), PG(10, :z), PG(10, :mu, :sigma)), iterations)\n",
    "    \n",
    "    # sample(dp_gmm_crp(y), SMC(), iterations)\n",
    "    # sample(dp_gmm_crp(y), IS(), iterations)\n",
    "    # sample(dp_gmm_crp(y), Gibbs(PG(5, :z), PG(5, :mu_sigma)), iterations)\n",
    "    # sample(dp_gmm_crp(y), PG(10), iterations)\n",
    "end;"
   ]
  },
  {
   "cell_type": "code",
   "execution_count": null,
   "metadata": {},
   "outputs": [],
   "source": [
    "chain.value.data"
   ]
  },
  {
   "cell_type": "code",
   "execution_count": null,
   "metadata": {},
   "outputs": [],
   "source": [
    "chain[:mu]"
   ]
  },
  {
   "cell_type": "code",
   "execution_count": null,
   "metadata": {},
   "outputs": [],
   "source": [
    "z = chain.value.data[end-burn+1:end, (end-length(y)+1):end, 1]\n",
    "nclus = [length(unique(z[i, :])) for i in 1:size(z, 1)];\n",
    "plt.figure(figsize=(12,4))\n",
    "plt.subplot(1, 3, 1)\n",
    "plt.plot(nclus);\n",
    "plt.subplot(1, 3, 2)\n",
    "counts_plot(nclus);\n",
    "plt.subplot(1, 3, 3)\n",
    "counts_plot(z[1000, :]);"
   ]
  },
  {
   "cell_type": "code",
   "execution_count": null,
   "metadata": {},
   "outputs": [],
   "source": [
    "# exp_num_clus(a, n) = a * log1p(n / a)\n",
    "# counts_plot(rand(Poisson(exp_num_clus(1.0, 200)), 100000), density=true);"
   ]
  },
  {
   "cell_type": "code",
   "execution_count": null,
   "metadata": {},
   "outputs": [],
   "source": [
    "# plt.plot(chain[:mu].value.data[:, :, 1])\n",
    "plt.plot(coalesce.(chain[:mu].value.data[burn+1:end, :, 1], 0.0));"
   ]
  },
  {
   "cell_type": "code",
   "execution_count": null,
   "metadata": {},
   "outputs": [],
   "source": []
  }
 ],
 "metadata": {
  "kernelspec": {
   "display_name": "Julia 1.4.1",
   "language": "julia",
   "name": "julia-1.4"
  },
  "language_info": {
   "file_extension": ".jl",
   "mimetype": "application/julia",
   "name": "julia",
   "version": "1.4.1"
  }
 },
 "nbformat": 4,
 "nbformat_minor": 4
}

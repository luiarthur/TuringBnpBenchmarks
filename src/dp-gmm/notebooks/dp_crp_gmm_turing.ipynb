{
 "cells": [
  {
   "cell_type": "code",
   "execution_count": 4,
   "metadata": {},
   "outputs": [
    {
     "name": "stdout",
     "output_type": "stream",
     "text": [
      "Last updated: 2020-06-29T15:31:55.794 (PT)\n"
     ]
    }
   ],
   "source": [
    "import Dates\n",
    "println(\"Last updated: \", Dates.now(), \" (PT)\")"
   ]
  },
  {
   "cell_type": "code",
   "execution_count": 5,
   "metadata": {},
   "outputs": [
    {
     "name": "stderr",
     "output_type": "stream",
     "text": [
      "\u001b[32m\u001b[1m Activating\u001b[22m\u001b[39m environment at `~/repo/TuringBnpBenchmarks/Project.toml`\n"
     ]
    }
   ],
   "source": [
    "# Load environment\n",
    "import Pkg; Pkg.activate(\"../../../\")"
   ]
  },
  {
   "cell_type": "code",
   "execution_count": 6,
   "metadata": {},
   "outputs": [
    {
     "name": "stderr",
     "output_type": "stream",
     "text": [
      "WARNING: replacing module BnpUtil.\n"
     ]
    }
   ],
   "source": [
    "# Import Libraries\n",
    "using Turing\n",
    "using Turing: Variational\n",
    "import Turing.RandomMeasures.DirichletProcess\n",
    "import Turing.RandomMeasures.ChineseRestaurantProcess\n",
    "using Distributions\n",
    "using JSON3\n",
    "using PyPlot\n",
    "using StatsFuns\n",
    "import Random\n",
    "using BenchmarkTools\n",
    "using Flux\n",
    "import StatsBase.countmap\n",
    "include(joinpath(@__DIR__, \"../util/BnpUtil.jl\"));"
   ]
  },
  {
   "cell_type": "code",
   "execution_count": 7,
   "metadata": {},
   "outputs": [],
   "source": [
    "# DP GMM model under CRP construction\n",
    "@model dp_gmm_crp(y) = begin\n",
    "    nobs = length(y)\n",
    "    \n",
    "    alpha ~ Gamma(1, 1/10)  # mean = 0.1\n",
    "    rpm = DirichletProcess(alpha)\n",
    "    \n",
    "    Hmu = Normal(0, 3)\n",
    "    Hsig = Gamma(1, 1/10)\n",
    "    \n",
    "    # Latent assignment.\n",
    "    z = tzeros(Int, nobs)\n",
    "    \n",
    "    # Locations of the infinitely many clusters.\n",
    "    mu = tzeros(Float64, 0)\n",
    "    \n",
    "    # Scales of the infinitely many clusters.\n",
    "    sigma = tzeros(Float64, 0)\n",
    "    \n",
    "    for i in 1:nobs\n",
    "        # Number of clusters.\n",
    "        K = maximum(z)\n",
    "        n = Vector{Int}(map(k -> sum(z .== k), 1:K))\n",
    "        \n",
    "        z[i] ~ ChineseRestaurantProcess(rpm,  n)\n",
    "        \n",
    "        # Create a new cluster?\n",
    "        if z[i] > K\n",
    "            push!(mu, 0.0)\n",
    "            push!(sigma, 1.0)\n",
    "\n",
    "            # Draw location of new cluster.\n",
    "            mu[z[i]] ~ Hmu\n",
    "            sigma[z[i]] ~ Hsig  # shape, scale\n",
    "        end \n",
    "        \n",
    "        y[i] ~ Normal(mu[z[i]], sigma[z[i]])\n",
    "    end\n",
    "end\n",
    ";"
   ]
  },
  {
   "cell_type": "code",
   "execution_count": 8,
   "metadata": {},
   "outputs": [
    {
     "data": {
      "text/plain": [
       "Dict{Symbol,Array{Any,1}} with 5 entries:\n",
       "  :w        => Any[0.220078, 0.291918, 0.2498, 0.238204]\n",
       "  :mu       => Any[-1.47027, -0.46176, 0.440237, 1.49896]\n",
       "  :sig      => Any[0.148861, 0.121097, 0.195192, 0.19999]\n",
       "  :y        => Any[-0.643664, -0.506898, -0.616358, -1.37424, -0.230964, -1.706…\n",
       "  :rand_idx => Any[2, 2, 2, 1, 2, 1, 4, 4, 2, 4  …  3, 2, 4, 1, 3, 4, 2, 2, 2, …"
      ]
     },
     "execution_count": 8,
     "metadata": {},
     "output_type": "execute_result"
    }
   ],
   "source": [
    "# Directory where all simulation data are stored.\n",
    "data_dir = joinpath(@__DIR__, \"../../data/sim-data\")\n",
    "path_to_data = joinpath(data_dir, \"gmm-data-n200.json\")\n",
    "\n",
    "# Load data in JSON format.\n",
    "data = let\n",
    "    x = open(f -> read(f, String), path_to_data)\n",
    "    JSON3.read(x, Dict{Symbol, Vector{Any}})\n",
    "end"
   ]
  },
  {
   "cell_type": "code",
   "execution_count": 9,
   "metadata": {},
   "outputs": [
    {
     "data": {
      "image/png": "[encoded data removed]",
      "text/plain": [
       "Figure(PyObject <Figure size 640x480 with 1 Axes>)"
      ]
     },
     "metadata": {},
     "output_type": "display_data"
    }
   ],
   "source": [
    "# Convert data to vector of floats\n",
    "y = Float64.(data[:y]);\n",
    "\n",
    "# Visualize data\n",
    "plt.hist(y, bins=50, density=true)\n",
    "plt.xlabel(\"y\")\n",
    "plt.ylabel(\"density\")\n",
    "plt.title(\"Histogram of data\");"
   ]
  },
  {
   "cell_type": "code",
   "execution_count": 10,
   "metadata": {},
   "outputs": [
    {
     "data": {
      "text/plain": [
       "extract (generic function with 1 method)"
      ]
     },
     "execution_count": 10,
     "metadata": {},
     "output_type": "execute_result"
    }
   ],
   "source": [
    "function extract(chain, sym; burn=0)\n",
    "    tail  = chain[sym].value.data[(burn + 1):end, :, :]\n",
    "    return dropdims(tail, dims=3)\n",
    "end"
   ]
  },
  {
   "cell_type": "code",
   "execution_count": 11,
   "metadata": {},
   "outputs": [
    {
     "name": "stderr",
     "output_type": "stream",
     "text": [
      "\u001b[32mSampling: 100%|█████████████████████████████████████████| Time: 0:00:00\u001b[39m\n"
     ]
    },
    {
     "name": "stdout",
     "output_type": "stream",
     "text": [
      " 22.371845 seconds (52.30 M allocations: 2.705 GiB, 4.81% gc time)\n"
     ]
    }
   ],
   "source": [
    "# Set random seed for reproducibility\n",
    "Random.seed!(5);\n",
    "\n",
    "# Compile time approx. 32s.\n",
    "# Run time approx. 70s\n",
    "\n",
    "@time crp_chain = begin\n",
    "    burn = 0  # NOTE: The burn in is also returned. Can't be discarded.\n",
    "    n_samples = 4\n",
    "    iterations = burn + n_samples\n",
    "\n",
    "    sample(dp_gmm_crp(y), SMC(), iterations)\n",
    "end;"
   ]
  },
  {
   "cell_type": "code",
   "execution_count": 12,
   "metadata": {},
   "outputs": [
    {
     "data": {
      "text/plain": [
       "4-element Array{Int64,1}:\n",
       " 1\n",
       " 1\n",
       " 1\n",
       " 1"
      ]
     },
     "execution_count": 12,
     "metadata": {},
     "output_type": "execute_result"
    }
   ],
   "source": [
    "mupost = extract(crp_chain, :mu, burn=burn)\n",
    "sigpost = extract(crp_chain, :sigma, burn=burn)\n",
    "# alphapost = extract(crp_chain, :alpha, burn=burn)\n",
    "zpost = extract(crp_chain, :z, burn=burn)\n",
    "\n",
    "# vpost = extract(crp_chain, :v, burn=burn)\n",
    "# etapost = hcat([BnpUtil.stickbreak(vpost[row, :]) for row in 1:size(vpost, 1)]...)';\n",
    "# mupost = extract(crp_chain, :mu, burn=burn)\n",
    "# sigpost = extract(crp_chain, :sig, burn=burn)\n",
    "# alphapost = extract(crp_chain, :alpha, burn=burn)\n",
    "# \n",
    "# plt.subplot(2, 2, 1)\n",
    "# plt.boxplot(etapost, whis=[2.5, 97.5], showmeans=true, showfliers=false);\n",
    "# plt.subplot(2, 2, 2)\n",
    "# plt.boxplot(mupost, whis=[2.5, 97.5], showmeans=true, showfliers=false);\n",
    "# plt.subplot(2, 2, 3)\n",
    "# plt.boxplot(sigpost, whis=[2.5, 97.5], showmeans=true, showfliers=false);\n",
    "# plt.subplot(2, 2, 4)\n",
    "# plt.hist(alphapost);\n",
    "# \n",
    "# # plt.plot(sum(etapost .> 1e-2, dims=2))\n",
    "# # plt.hist(sum(etapost .> 1e-2, dims=2));\n",
    "# k = map(t -> length(unique(zpost[t, :])), 1:iterations);\n",
    "# plt.plot(k);\n",
    "\n",
    "[length(unique(zpost[i, :])) for i in 1:size(zpost, 1)]"
   ]
  },
  {
   "cell_type": "code",
   "execution_count": 13,
   "metadata": {
    "scrolled": false
   },
   "outputs": [
    {
     "name": "stderr",
     "output_type": "stream",
     "text": [
      "\u001b[32mSampling: 100%|█████████████████████████████████████████| Time: 0:00:00\u001b[39m\n"
     ]
    },
    {
     "ename": "BoundsError",
     "evalue": "BoundsError: attempt to access 0-element Array{Any,1} at index [1]",
     "output_type": "error",
     "traceback": [
      "BoundsError: attempt to access 0-element Array{Any,1} at index [1]",
      "",
      "Stacktrace:",
      " [1] getindex(::Array{Any,1}, ::Int64) at ./array.jl:788",
      " [2] ess(::Chains{Union{Missing, Float64},Float64,NamedTuple{(:internals, :parameters),Tuple{Array{String,1},Array{String,1}}},NamedTuple{(),Tuple{}}}; showall::Bool, sections::Array{Symbol,1}, maxlag::Int64, digits::Int64, sorted::Bool) at /home/ubuntu/.julia/packages/MCMCChains/pVyO1/src/stats.jl:376",
      " [3] summarystats(::Chains{Union{Missing, Float64},Float64,NamedTuple{(:internals, :parameters),Tuple{Array{String,1},Array{String,1}}},NamedTuple{(),Tuple{}}}; append_chains::Bool, showall::Bool, sections::Array{Symbol,1}, etype::Symbol, digits::Int64, sorted::Bool, args::Base.Iterators.Pairs{Union{},Union{},Tuple{},NamedTuple{(),Tuple{}}}) at /home/ubuntu/.julia/packages/MCMCChains/pVyO1/src/stats.jl:441",
      " [4] describe(::IJulia.IJuliaStdio{Base.PipeEndpoint}, ::Chains{Union{Missing, Float64},Float64,NamedTuple{(:internals, :parameters),Tuple{Array{String,1},Array{String,1}}},NamedTuple{(),Tuple{}}}; q::Array{Float64,1}, etype::Symbol, showall::Bool, sections::Array{Symbol,1}, digits::Int64, sorted::Bool, args::Base.Iterators.Pairs{Union{},Union{},Tuple{},NamedTuple{(),Tuple{}}}) at /home/ubuntu/.julia/packages/MCMCChains/pVyO1/src/stats.jl:203",
      " [5] describe(::IJulia.IJuliaStdio{Base.PipeEndpoint}, ::Chains{Union{Missing, Float64},Float64,NamedTuple{(:internals, :parameters),Tuple{Array{String,1},Array{String,1}}},NamedTuple{(),Tuple{}}}) at /home/ubuntu/.julia/packages/MCMCChains/pVyO1/src/stats.jl:203",
      " [6] describe(::Chains{Union{Missing, Float64},Float64,NamedTuple{(:internals, :parameters),Tuple{Array{String,1},Array{String,1}}},NamedTuple{(),Tuple{}}}; args::Base.Iterators.Pairs{Union{},Union{},Tuple{},NamedTuple{(),Tuple{}}}) at /home/ubuntu/.julia/packages/MCMCChains/pVyO1/src/stats.jl:174",
      " [7] describe at /home/ubuntu/.julia/packages/MCMCChains/pVyO1/src/stats.jl:174 [inlined]",
      " [8] show(::IOContext{Base.GenericIOBuffer{Array{UInt8,1}}}, ::Chains{Union{Missing, Float64},Float64,NamedTuple{(:internals, :parameters),Tuple{Array{String,1},Array{String,1}}},NamedTuple{(),Tuple{}}}) at /home/ubuntu/.julia/packages/MCMCChains/pVyO1/src/chains.jl:283",
      " [9] show at ./multimedia.jl:47 [inlined]",
      " [10] limitstringmime(::MIME{Symbol(\"text/plain\")}, ::Chains{Union{Missing, Float64},Float64,NamedTuple{(:internals, :parameters),Tuple{Array{String,1},Array{String,1}}},NamedTuple{(),Tuple{}}}) at /home/ubuntu/.julia/packages/IJulia/DrVMH/src/inline.jl:43",
      " [11] display_mimestring(::MIME{Symbol(\"text/plain\")}, ::Chains{Union{Missing, Float64},Float64,NamedTuple{(:internals, :parameters),Tuple{Array{String,1},Array{String,1}}},NamedTuple{(),Tuple{}}}) at /home/ubuntu/.julia/packages/IJulia/DrVMH/src/display.jl:67",
      " [12] display_dict(::Chains{Union{Missing, Float64},Float64,NamedTuple{(:internals, :parameters),Tuple{Array{String,1},Array{String,1}}},NamedTuple{(),Tuple{}}}) at /home/ubuntu/.julia/packages/IJulia/DrVMH/src/display.jl:96",
      " [13] #invokelatest#1 at ./essentials.jl:712 [inlined]",
      " [14] invokelatest at ./essentials.jl:711 [inlined]",
      " [15] execute_request(::ZMQ.Socket, ::IJulia.Msg) at /home/ubuntu/.julia/packages/IJulia/DrVMH/src/execute_request.jl:112",
      " [16] #invokelatest#1 at ./essentials.jl:712 [inlined]",
      " [17] invokelatest at ./essentials.jl:711 [inlined]",
      " [18] eventloop(::ZMQ.Socket) at /home/ubuntu/.julia/packages/IJulia/DrVMH/src/eventloop.jl:8",
      " [19] (::IJulia.var\"#15#18\")() at ./task.jl:358"
     ]
    }
   ],
   "source": [
    "# FIXME: Not working???\n",
    "\n",
    "@model infiniteGMM(x) = begin\n",
    "    nobs = length(x)\n",
    "    \n",
    "    # Hyper-parameters, i.e. concentration parameter and parameters of H.\n",
    "    alpha = 1.0\n",
    "    mu0 = 0.0\n",
    "    sig0 = 1.0\n",
    "    \n",
    "    # Define random measure, e.g. Dirichlet process.\n",
    "    rpm = DirichletProcess(alpha)\n",
    "    \n",
    "    # Define the base distribution, i.e. expected value of the Dirichlet process.\n",
    "    H = Normal(mu0, sig0)\n",
    "    \n",
    "    # Latent assignment.\n",
    "    z = tzeros(Int, nobs)\n",
    "        \n",
    "    # Locations of the infinitely many clusters.\n",
    "    mu = tzeros(Float64, 0)\n",
    "    \n",
    "    for i in 1:nobs\n",
    "        # Number of clusters.\n",
    "        K = maximum(z)\n",
    "        nk = Vector{Int}(map(k -> sum(z .== k), 1:K))\n",
    "\n",
    "        # Draw the latent assignment.\n",
    "        z[i] ~ ChineseRestaurantProcess(rpm, nk)\n",
    "        \n",
    "        # Create a new cluster?\n",
    "        if z[i] > K\n",
    "            push!(mu, 0.0)\n",
    "\n",
    "            # Draw location of new cluster.\n",
    "            mu[z[i]] ~ H\n",
    "        end\n",
    "                \n",
    "        # Draw observation.\n",
    "        x[i] ~ Normal(mu[z[i]], 1.0)\n",
    "    end\n",
    "end\n",
    "\n",
    "Random.seed!(1)\n",
    "data = vcat(randn(10), randn(10) .- 5, randn(10) .+ 10)\n",
    "data .-= mean(data)\n",
    "data /= std(data);\n",
    "\n",
    "Random.seed!(2)\n",
    "iterations = 1000\n",
    "model_fun = infiniteGMM(data)\n",
    "chain = sample(model_fun, SMC(), iterations)"
   ]
  },
  {
   "cell_type": "code",
   "execution_count": 14,
   "metadata": {},
   "outputs": [
    {
     "data": {
      "text/plain": [
       "3-element Array{Int64,1}:\n",
       " 2\n",
       " 0\n",
       " 2"
      ]
     },
     "execution_count": 14,
     "metadata": {},
     "output_type": "execute_result"
    }
   ],
   "source": [
    "x =  [1,3,3,1]\n",
    "map(k -> sum(x .== k), 1:3)"
   ]
  },
  {
   "cell_type": "code",
   "execution_count": null,
   "metadata": {},
   "outputs": [],
   "source": []
  },
  {
   "cell_type": "code",
   "execution_count": 15,
   "metadata": {},
   "outputs": [
    {
     "ename": "UndefVarError",
     "evalue": "UndefVarError: dp_gmm_sb not defined",
     "output_type": "error",
     "traceback": [
      "UndefVarError: dp_gmm_sb not defined",
      "",
      "Stacktrace:",
      " [1] macro expansion at ./In[15]:18 [inlined]",
      " [2] macro expansion at ./util.jl:175 [inlined]",
      " [3] top-level scope at ./In[15]:5"
     ]
    }
   ],
   "source": [
    "# Fit DP-SB-GMM with NUTS\n",
    "\n",
    "# Set random seed for reproducibility\n",
    "Random.seed!(0);\n",
    "\n",
    "# NUTS\n",
    "# Compile time approx. 11s\n",
    "# Run time approx. 244s\n",
    "# Slower, but works a little better.\n",
    "@time chain = begin\n",
    "    n_components = 10\n",
    "    n_samples = 500\n",
    "    nadapt = 500\n",
    "    iterations = n_samples + nadapt\n",
    "    burn = 0  # For compatibility with HMC below.\n",
    "    target_accept_ratio = 0.8\n",
    "    \n",
    "    sample(dp_gmm_sb(y, n_components),\n",
    "           NUTS(nadapt, target_accept_ratio, max_depth=10),\n",
    "           # NUTS(nadapt, target_accept_ratio, max_depth=5),  # 50 seconds, but poor inference.\n",
    "           iterations);\n",
    "end"
   ]
  },
  {
   "cell_type": "code",
   "execution_count": 16,
   "metadata": {},
   "outputs": [
    {
     "ename": "BoundsError",
     "evalue": "BoundsError: attempt to access 0-element Array{Any,1} at index [1]",
     "output_type": "error",
     "traceback": [
      "BoundsError: attempt to access 0-element Array{Any,1} at index [1]",
      "",
      "Stacktrace:",
      " [1] getindex at ./array.jl:788 [inlined]",
      " [2] first(::Array{Any,1}) at ./abstractarray.jl:323",
      " [3] getindex(::Chains{Union{Missing, Float64},Float64,NamedTuple{(:internals, :parameters),Tuple{Array{String,1},Array{String,1}}},NamedTuple{(),Tuple{}}}, ::Function, ::Array{Any,1}, ::Function) at /home/ubuntu/.julia/packages/MCMCChains/pVyO1/src/chains.jl:163",
      " [4] getindex at /home/ubuntu/.julia/packages/MCMCChains/pVyO1/src/chains.jl:152 [inlined]",
      " [5] getindex at /home/ubuntu/.julia/packages/MCMCChains/pVyO1/src/chains.jl:146 [inlined]",
      " [6] extract(::Chains{Union{Missing, Float64},Float64,NamedTuple{(:internals, :parameters),Tuple{Array{String,1},Array{String,1}}},NamedTuple{(),Tuple{}}}, ::Symbol; burn::Int64) at ./In[10]:2",
      " [7] top-level scope at In[16]:1"
     ]
    }
   ],
   "source": [
    "vpost = extract(chain, :v, burn=burn);\n",
    "mupost = extract(chain, :mu, burn=burn);\n",
    "sigpost = extract(chain, :sig, burn=burn);\n",
    "etapost = hcat([BnpUtil.stickbreak(vpost[row, :]) for row in 1:size(vpost, 1)]...)';"
   ]
  },
  {
   "cell_type": "code",
   "execution_count": 17,
   "metadata": {},
   "outputs": [
    {
     "data": {
      "text/plain": [
       "plot_param_post (generic function with 1 method)"
      ]
     },
     "execution_count": 17,
     "metadata": {},
     "output_type": "execute_result"
    }
   ],
   "source": [
    "function plot_param_post(param, param_name, param_full_name; figsize=(11, 4), truth=nothing)\n",
    "    plt.figure(figsize=figsize)\n",
    "\n",
    "    plt.subplot(1, 2, 1)\n",
    "    plt.boxplot(param, whis=[2.5, 97.5], showmeans=true, showfliers=false)\n",
    "    plt.xlabel(\"mixture components\")\n",
    "    plt.ylabel(param_full_name)\n",
    "    plt.title(\"95% Credible Intervals for $(param_full_name)\")\n",
    "    \n",
    "    if truth != nothing\n",
    "        for line in truth\n",
    "            plt.axhline(line, ls=\":\")\n",
    "        end\n",
    "    end\n",
    "\n",
    "    plt.subplot(1, 2, 2)\n",
    "    plt.plot(param)\n",
    "    plt.xlabel(\"iterations\")\n",
    "    plt.ylabel(param_full_name)\n",
    "    plt.title(\"Trace plot of $(param_full_name)\");\n",
    "end"
   ]
  },
  {
   "cell_type": "code",
   "execution_count": 18,
   "metadata": {},
   "outputs": [
    {
     "ename": "UndefVarError",
     "evalue": "UndefVarError: dp_gmm_sb not defined",
     "output_type": "error",
     "traceback": [
      "UndefVarError: dp_gmm_sb not defined",
      "",
      "Stacktrace:",
      " [1] top-level scope at In[18]:1"
     ]
    }
   ],
   "source": [
    "# Loglikelihood can be extracted after model fitting using string macro.\n",
    "# See: https://turing.ml/dev/docs/using-turing/guide#querying-probabilities-from-model-or-chain\n",
    "\n",
    "loglike = logprob\"y=y, K=n_components | model=dp_gmm_sb, chain=chain\"\n",
    "plt.plot(loglike)\n",
    "plt.xlabel(\"iteration (post-burn)\")\n",
    "plt.ylabel(\"Log likelihood\")"
   ]
  },
  {
   "cell_type": "code",
   "execution_count": 19,
   "metadata": {},
   "outputs": [
    {
     "ename": "ArgumentError",
     "evalue": "ArgumentError: invalid index: :w of type Symbol",
     "output_type": "error",
     "traceback": [
      "ArgumentError: invalid index: :w of type Symbol",
      "",
      "Stacktrace:",
      " [1] to_index(::Symbol) at ./indices.jl:297",
      " [2] to_index(::Array{Float64,1}, ::Symbol) at ./indices.jl:274",
      " [3] to_indices at ./indices.jl:325 [inlined]",
      " [4] to_indices at ./indices.jl:322 [inlined]",
      " [5] getindex(::Array{Float64,1}, ::Symbol) at ./abstractarray.jl:980",
      " [6] top-level scope at In[19]:1"
     ]
    }
   ],
   "source": [
    "plot_param_post(etapost, :eta, \"mixture weights (η)\", truth=data[:w]);"
   ]
  },
  {
   "cell_type": "code",
   "execution_count": 20,
   "metadata": {},
   "outputs": [
    {
     "ename": "ArgumentError",
     "evalue": "ArgumentError: invalid index: :mu of type Symbol",
     "output_type": "error",
     "traceback": [
      "ArgumentError: invalid index: :mu of type Symbol",
      "",
      "Stacktrace:",
      " [1] to_index(::Symbol) at ./indices.jl:297",
      " [2] to_index(::Array{Float64,1}, ::Symbol) at ./indices.jl:274",
      " [3] to_indices at ./indices.jl:325 [inlined]",
      " [4] to_indices at ./indices.jl:322 [inlined]",
      " [5] getindex(::Array{Float64,1}, ::Symbol) at ./abstractarray.jl:980",
      " [6] top-level scope at In[20]:1"
     ]
    }
   ],
   "source": [
    "plot_param_post(mupost, :mu, \"mixture means (μ)\", truth=data[:mu]);"
   ]
  },
  {
   "cell_type": "code",
   "execution_count": 21,
   "metadata": {},
   "outputs": [
    {
     "ename": "ArgumentError",
     "evalue": "ArgumentError: invalid index: :sig of type Symbol",
     "output_type": "error",
     "traceback": [
      "ArgumentError: invalid index: :sig of type Symbol",
      "",
      "Stacktrace:",
      " [1] to_index(::Symbol) at ./indices.jl:297",
      " [2] to_index(::Array{Float64,1}, ::Symbol) at ./indices.jl:274",
      " [3] to_indices at ./indices.jl:325 [inlined]",
      " [4] to_indices at ./indices.jl:322 [inlined]",
      " [5] getindex(::Array{Float64,1}, ::Symbol) at ./abstractarray.jl:980",
      " [6] top-level scope at In[21]:1"
     ]
    }
   ],
   "source": [
    "plot_param_post(sigpost, :sigma, \"mixture scales (σ)\", truth=data[:sig]);"
   ]
  },
  {
   "cell_type": "code",
   "execution_count": 22,
   "metadata": {},
   "outputs": [
    {
     "ename": "BoundsError",
     "evalue": "BoundsError: attempt to access 0-element Array{Any,1} at index [1]",
     "output_type": "error",
     "traceback": [
      "BoundsError: attempt to access 0-element Array{Any,1} at index [1]",
      "",
      "Stacktrace:",
      " [1] getindex at ./array.jl:788 [inlined]",
      " [2] first(::Array{Any,1}) at ./abstractarray.jl:323",
      " [3] getindex(::Chains{Union{Missing, Float64},Float64,NamedTuple{(:internals, :parameters),Tuple{Array{String,1},Array{String,1}}},NamedTuple{(),Tuple{}}}, ::Function, ::Array{Any,1}, ::Function) at /home/ubuntu/.julia/packages/MCMCChains/pVyO1/src/chains.jl:163",
      " [4] getindex at /home/ubuntu/.julia/packages/MCMCChains/pVyO1/src/chains.jl:152 [inlined]",
      " [5] getindex(::Chains{Union{Missing, Float64},Float64,NamedTuple{(:internals, :parameters),Tuple{Array{String,1},Array{String,1}}},NamedTuple{(),Tuple{}}}, ::Symbol) at /home/ubuntu/.julia/packages/MCMCChains/pVyO1/src/chains.jl:146",
      " [6] top-level scope at In[22]:1"
     ]
    }
   ],
   "source": [
    "plt.hist(vec(chain[:alpha].value), density=true, bins=30)\n",
    "plt.xlabel(\"α\")\n",
    "plt.ylabel(\"density\")\n",
    "plt.title(\"Histogram of mass parameter α\");"
   ]
  },
  {
   "cell_type": "code",
   "execution_count": null,
   "metadata": {},
   "outputs": [],
   "source": []
  }
 ],
 "metadata": {
  "kernelspec": {
   "display_name": "Julia 1.4.1",
   "language": "julia",
   "name": "julia-1.4"
  },
  "language_info": {
   "file_extension": ".jl",
   "mimetype": "application/julia",
   "name": "julia",
   "version": "1.4.1"
  }
 },
 "nbformat": 4,
 "nbformat_minor": 4
}

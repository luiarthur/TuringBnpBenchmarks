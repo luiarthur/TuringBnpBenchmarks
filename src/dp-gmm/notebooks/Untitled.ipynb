{
 "cells": [
  {
   "cell_type": "code",
   "execution_count": 1,
   "metadata": {},
   "outputs": [],
   "source": [
    "# The R-package `renv` was used to create an R virtual environment.\n",
    "# To install `renv`, do `install.packages('renv')`.\n",
    "# To initialize an R environment, `renv::init()`.\n",
    "# This will create a directory called `renv` in the current dir.\n",
    "# See also:\n",
    "# renv::init()\n",
    "# renv::settings$snapshot.type('all')\n",
    "# renv::status()\n",
    "# renv::snapshot()\n",
    "# renv::restore()"
   ]
  },
  {
   "cell_type": "code",
   "execution_count": null,
   "metadata": {},
   "outputs": [],
   "source": [
    "renv::"
   ]
  }
 ],
 "metadata": {
  "kernelspec": {
   "display_name": "R",
   "language": "R",
   "name": "ir"
  },
  "language_info": {
   "codemirror_mode": "r",
   "file_extension": ".r",
   "mimetype": "text/x-r-source",
   "name": "R",
   "pygments_lexer": "r",
   "version": "3.6.3"
  }
 },
 "nbformat": 4,
 "nbformat_minor": 4
}
